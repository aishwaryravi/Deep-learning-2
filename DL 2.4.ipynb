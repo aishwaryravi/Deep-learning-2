{
 "cells": [
  {
   "cell_type": "code",
   "execution_count": 1,
   "metadata": {},
   "outputs": [
    {
     "data": {
      "text/plain": [
       "<torch._C.Generator at 0x18902745bb0>"
      ]
     },
     "execution_count": 1,
     "metadata": {},
     "output_type": "execute_result"
    }
   ],
   "source": [
    "import torch\n",
    "from torch.utils.data import Dataset\n",
    "torch.manual_seed(1)"
   ]
  },
  {
   "cell_type": "code",
   "execution_count": 2,
   "metadata": {},
   "outputs": [],
   "source": [
    "# Simple dataset\n",
    "\n",
    "class toy_set(Dataset):\n",
    "    \n",
    "    def __init__(self, length=100, transform=None):\n",
    "        self.len = length\n",
    "        self.x = 2 * torch.ones(length, 2)\n",
    "        self.y = torch.ones(length, 1)\n",
    "        self.transform = transform\n",
    "        \n",
    "    # Getter\n",
    "    def __getitem__(self, index):\n",
    "        sample = self.x[index], self.y[index]\n",
    "        if self.transform:\n",
    "            sample = self.transform(sample)\n",
    "        return sample\n",
    "    \n",
    "    # Get length\n",
    "    def __len__(self):\n",
    "        return self.len\n",
    "    \n",
    "    "
   ]
  },
  {
   "cell_type": "code",
   "execution_count": 3,
   "metadata": {},
   "outputs": [
    {
     "name": "stdout",
     "output_type": "stream",
     "text": [
      "Our toy_set object: <__main__.toy_set object at 0x0000018905ABD588>\n",
      "Value on index 0: (tensor([2., 2.]), tensor([1.]))\n",
      "Length of dataset: 100\n"
     ]
    }
   ],
   "source": [
    "our_dataset = toy_set()\n",
    "print('Our toy_set object:', our_dataset)\n",
    "print('Value on index 0:', our_dataset[0])\n",
    "print('Length of dataset:', len(our_dataset))"
   ]
  },
  {
   "cell_type": "code",
   "execution_count": 4,
   "metadata": {},
   "outputs": [
    {
     "name": "stdout",
     "output_type": "stream",
     "text": [
      "index: 0 ;x: tensor([2., 2.]) ;y: tensor([1.])\n",
      "index: 1 ;x: tensor([2., 2.]) ;y: tensor([1.])\n",
      "index: 2 ;x: tensor([2., 2.]) ;y: tensor([1.])\n"
     ]
    }
   ],
   "source": [
    "for i in range(3):\n",
    "    x,y = our_dataset[i]\n",
    "    print('index:', i, ';x:', x, ';y:', y)"
   ]
  },
  {
   "cell_type": "code",
   "execution_count": 5,
   "metadata": {},
   "outputs": [
    {
     "name": "stdout",
     "output_type": "stream",
     "text": [
      "x: tensor([2., 2.]) y: tensor([1.])\n",
      "x: tensor([2., 2.]) y: tensor([1.])\n",
      "x: tensor([2., 2.]) y: tensor([1.])\n",
      "x: tensor([2., 2.]) y: tensor([1.])\n",
      "x: tensor([2., 2.]) y: tensor([1.])\n",
      "x: tensor([2., 2.]) y: tensor([1.])\n",
      "x: tensor([2., 2.]) y: tensor([1.])\n",
      "x: tensor([2., 2.]) y: tensor([1.])\n",
      "x: tensor([2., 2.]) y: tensor([1.])\n",
      "x: tensor([2., 2.]) y: tensor([1.])\n",
      "x: tensor([2., 2.]) y: tensor([1.])\n",
      "x: tensor([2., 2.]) y: tensor([1.])\n",
      "x: tensor([2., 2.]) y: tensor([1.])\n",
      "x: tensor([2., 2.]) y: tensor([1.])\n",
      "x: tensor([2., 2.]) y: tensor([1.])\n",
      "x: tensor([2., 2.]) y: tensor([1.])\n",
      "x: tensor([2., 2.]) y: tensor([1.])\n",
      "x: tensor([2., 2.]) y: tensor([1.])\n",
      "x: tensor([2., 2.]) y: tensor([1.])\n",
      "x: tensor([2., 2.]) y: tensor([1.])\n",
      "x: tensor([2., 2.]) y: tensor([1.])\n",
      "x: tensor([2., 2.]) y: tensor([1.])\n",
      "x: tensor([2., 2.]) y: tensor([1.])\n",
      "x: tensor([2., 2.]) y: tensor([1.])\n",
      "x: tensor([2., 2.]) y: tensor([1.])\n",
      "x: tensor([2., 2.]) y: tensor([1.])\n",
      "x: tensor([2., 2.]) y: tensor([1.])\n",
      "x: tensor([2., 2.]) y: tensor([1.])\n",
      "x: tensor([2., 2.]) y: tensor([1.])\n",
      "x: tensor([2., 2.]) y: tensor([1.])\n",
      "x: tensor([2., 2.]) y: tensor([1.])\n",
      "x: tensor([2., 2.]) y: tensor([1.])\n",
      "x: tensor([2., 2.]) y: tensor([1.])\n",
      "x: tensor([2., 2.]) y: tensor([1.])\n",
      "x: tensor([2., 2.]) y: tensor([1.])\n",
      "x: tensor([2., 2.]) y: tensor([1.])\n",
      "x: tensor([2., 2.]) y: tensor([1.])\n",
      "x: tensor([2., 2.]) y: tensor([1.])\n",
      "x: tensor([2., 2.]) y: tensor([1.])\n",
      "x: tensor([2., 2.]) y: tensor([1.])\n",
      "x: tensor([2., 2.]) y: tensor([1.])\n",
      "x: tensor([2., 2.]) y: tensor([1.])\n",
      "x: tensor([2., 2.]) y: tensor([1.])\n",
      "x: tensor([2., 2.]) y: tensor([1.])\n",
      "x: tensor([2., 2.]) y: tensor([1.])\n",
      "x: tensor([2., 2.]) y: tensor([1.])\n",
      "x: tensor([2., 2.]) y: tensor([1.])\n",
      "x: tensor([2., 2.]) y: tensor([1.])\n",
      "x: tensor([2., 2.]) y: tensor([1.])\n",
      "x: tensor([2., 2.]) y: tensor([1.])\n",
      "x: tensor([2., 2.]) y: tensor([1.])\n",
      "x: tensor([2., 2.]) y: tensor([1.])\n",
      "x: tensor([2., 2.]) y: tensor([1.])\n",
      "x: tensor([2., 2.]) y: tensor([1.])\n",
      "x: tensor([2., 2.]) y: tensor([1.])\n",
      "x: tensor([2., 2.]) y: tensor([1.])\n",
      "x: tensor([2., 2.]) y: tensor([1.])\n",
      "x: tensor([2., 2.]) y: tensor([1.])\n",
      "x: tensor([2., 2.]) y: tensor([1.])\n",
      "x: tensor([2., 2.]) y: tensor([1.])\n",
      "x: tensor([2., 2.]) y: tensor([1.])\n",
      "x: tensor([2., 2.]) y: tensor([1.])\n",
      "x: tensor([2., 2.]) y: tensor([1.])\n",
      "x: tensor([2., 2.]) y: tensor([1.])\n",
      "x: tensor([2., 2.]) y: tensor([1.])\n",
      "x: tensor([2., 2.]) y: tensor([1.])\n",
      "x: tensor([2., 2.]) y: tensor([1.])\n",
      "x: tensor([2., 2.]) y: tensor([1.])\n",
      "x: tensor([2., 2.]) y: tensor([1.])\n",
      "x: tensor([2., 2.]) y: tensor([1.])\n",
      "x: tensor([2., 2.]) y: tensor([1.])\n",
      "x: tensor([2., 2.]) y: tensor([1.])\n",
      "x: tensor([2., 2.]) y: tensor([1.])\n",
      "x: tensor([2., 2.]) y: tensor([1.])\n",
      "x: tensor([2., 2.]) y: tensor([1.])\n",
      "x: tensor([2., 2.]) y: tensor([1.])\n",
      "x: tensor([2., 2.]) y: tensor([1.])\n",
      "x: tensor([2., 2.]) y: tensor([1.])\n",
      "x: tensor([2., 2.]) y: tensor([1.])\n",
      "x: tensor([2., 2.]) y: tensor([1.])\n",
      "x: tensor([2., 2.]) y: tensor([1.])\n",
      "x: tensor([2., 2.]) y: tensor([1.])\n",
      "x: tensor([2., 2.]) y: tensor([1.])\n",
      "x: tensor([2., 2.]) y: tensor([1.])\n",
      "x: tensor([2., 2.]) y: tensor([1.])\n",
      "x: tensor([2., 2.]) y: tensor([1.])\n",
      "x: tensor([2., 2.]) y: tensor([1.])\n",
      "x: tensor([2., 2.]) y: tensor([1.])\n",
      "x: tensor([2., 2.]) y: tensor([1.])\n",
      "x: tensor([2., 2.]) y: tensor([1.])\n",
      "x: tensor([2., 2.]) y: tensor([1.])\n",
      "x: tensor([2., 2.]) y: tensor([1.])\n",
      "x: tensor([2., 2.]) y: tensor([1.])\n",
      "x: tensor([2., 2.]) y: tensor([1.])\n",
      "x: tensor([2., 2.]) y: tensor([1.])\n",
      "x: tensor([2., 2.]) y: tensor([1.])\n",
      "x: tensor([2., 2.]) y: tensor([1.])\n",
      "x: tensor([2., 2.]) y: tensor([1.])\n",
      "x: tensor([2., 2.]) y: tensor([1.])\n",
      "x: tensor([2., 2.]) y: tensor([1.])\n"
     ]
    }
   ],
   "source": [
    "for x,y in our_dataset:\n",
    "    print('x:', x, 'y:', y)"
   ]
  },
  {
   "cell_type": "code",
   "execution_count": 15,
   "metadata": {},
   "outputs": [],
   "source": [
    "# Transform\n",
    "\n",
    "class add_mult(object):\n",
    "    \n",
    "    # constructor\n",
    "    def __init__(self, addx=1, muly=2):\n",
    "        self.addx = addx\n",
    "        self.muly = muly\n",
    "    \n",
    "    # executor\n",
    "    def __call__(self,sample):\n",
    "        x = sample[0]\n",
    "        y = sample[1]\n",
    "        x = x + self.addx\n",
    "        y = y * self.muly\n",
    "        sample = x, y\n",
    "        return sample\n",
    "    "
   ]
  },
  {
   "cell_type": "code",
   "execution_count": 16,
   "metadata": {},
   "outputs": [],
   "source": [
    "a_m = add_mult()\n",
    "data_set = toy_set()"
   ]
  },
  {
   "cell_type": "code",
   "execution_count": 17,
   "metadata": {},
   "outputs": [
    {
     "name": "stdout",
     "output_type": "stream",
     "text": [
      "Index: 0 Original x: tensor([2., 2.]) Original y: tensor([1.])\n",
      "Index: 0 Transform x: tensor([3., 3.]) Transform y: tensor([2.])\n",
      "Index: 1 Original x: tensor([2., 2.]) Original y: tensor([1.])\n",
      "Index: 1 Transform x: tensor([3., 3.]) Transform y: tensor([2.])\n",
      "Index: 2 Original x: tensor([2., 2.]) Original y: tensor([1.])\n",
      "Index: 2 Transform x: tensor([3., 3.]) Transform y: tensor([2.])\n",
      "Index: 3 Original x: tensor([2., 2.]) Original y: tensor([1.])\n",
      "Index: 3 Transform x: tensor([3., 3.]) Transform y: tensor([2.])\n",
      "Index: 4 Original x: tensor([2., 2.]) Original y: tensor([1.])\n",
      "Index: 4 Transform x: tensor([3., 3.]) Transform y: tensor([2.])\n",
      "Index: 5 Original x: tensor([2., 2.]) Original y: tensor([1.])\n",
      "Index: 5 Transform x: tensor([3., 3.]) Transform y: tensor([2.])\n",
      "Index: 6 Original x: tensor([2., 2.]) Original y: tensor([1.])\n",
      "Index: 6 Transform x: tensor([3., 3.]) Transform y: tensor([2.])\n",
      "Index: 7 Original x: tensor([2., 2.]) Original y: tensor([1.])\n",
      "Index: 7 Transform x: tensor([3., 3.]) Transform y: tensor([2.])\n",
      "Index: 8 Original x: tensor([2., 2.]) Original y: tensor([1.])\n",
      "Index: 8 Transform x: tensor([3., 3.]) Transform y: tensor([2.])\n",
      "Index: 9 Original x: tensor([2., 2.]) Original y: tensor([1.])\n",
      "Index: 9 Transform x: tensor([3., 3.]) Transform y: tensor([2.])\n"
     ]
    }
   ],
   "source": [
    "for i in range(10):\n",
    "    x, y = data_set[i]\n",
    "    print('Index:', i ,'Original x:', x , 'Original y:', y)\n",
    "    x_, y_ = a_m(data_set[i])\n",
    "    print('Index:', i , 'Transform x:', x_ ,'Transform y:', y_)"
   ]
  },
  {
   "cell_type": "code",
   "execution_count": 18,
   "metadata": {},
   "outputs": [],
   "source": [
    "cust_data_set = toy_set(transform = a_m)"
   ]
  },
  {
   "cell_type": "code",
   "execution_count": 20,
   "metadata": {},
   "outputs": [
    {
     "name": "stdout",
     "output_type": "stream",
     "text": [
      "Index: 0 Original x: tensor([2., 2.]) Original y: tensor([1.])\n",
      "Index: 0 Transform x: tensor([3., 3.]) Transform y: tensor([2.])\n",
      "Index: 1 Original x: tensor([2., 2.]) Original y: tensor([1.])\n",
      "Index: 1 Transform x: tensor([3., 3.]) Transform y: tensor([2.])\n",
      "Index: 2 Original x: tensor([2., 2.]) Original y: tensor([1.])\n",
      "Index: 2 Transform x: tensor([3., 3.]) Transform y: tensor([2.])\n",
      "Index: 3 Original x: tensor([2., 2.]) Original y: tensor([1.])\n",
      "Index: 3 Transform x: tensor([3., 3.]) Transform y: tensor([2.])\n",
      "Index: 4 Original x: tensor([2., 2.]) Original y: tensor([1.])\n",
      "Index: 4 Transform x: tensor([3., 3.]) Transform y: tensor([2.])\n",
      "Index: 5 Original x: tensor([2., 2.]) Original y: tensor([1.])\n",
      "Index: 5 Transform x: tensor([3., 3.]) Transform y: tensor([2.])\n",
      "Index: 6 Original x: tensor([2., 2.]) Original y: tensor([1.])\n",
      "Index: 6 Transform x: tensor([3., 3.]) Transform y: tensor([2.])\n",
      "Index: 7 Original x: tensor([2., 2.]) Original y: tensor([1.])\n",
      "Index: 7 Transform x: tensor([3., 3.]) Transform y: tensor([2.])\n",
      "Index: 8 Original x: tensor([2., 2.]) Original y: tensor([1.])\n",
      "Index: 8 Transform x: tensor([3., 3.]) Transform y: tensor([2.])\n",
      "Index: 9 Original x: tensor([2., 2.]) Original y: tensor([1.])\n",
      "Index: 9 Transform x: tensor([3., 3.]) Transform y: tensor([2.])\n"
     ]
    }
   ],
   "source": [
    "for i in range(10):\n",
    "    x, y = data_set[i]\n",
    "    print('Index:', i, 'Original x:', x, 'Original y:', y)\n",
    "    x_, y_ = cust_data_set[i]\n",
    "    print('Index:', i, 'Transform x:', x_, 'Transform y:', y_)"
   ]
  },
  {
   "cell_type": "code",
   "execution_count": 21,
   "metadata": {},
   "outputs": [],
   "source": [
    "from torchvision import transforms"
   ]
  },
  {
   "cell_type": "code",
   "execution_count": 22,
   "metadata": {},
   "outputs": [],
   "source": [
    "class mult(object):\n",
    "    def __init__(self, mult = 100):\n",
    "        self.mult = mult\n",
    "        \n",
    "    def __call__(self, sample):\n",
    "        x = sample[0]\n",
    "        y = sample[1]\n",
    "        x = x * self.mult\n",
    "        y = y * self.mult\n",
    "        sample = x, y\n",
    "        return sample"
   ]
  },
  {
   "cell_type": "code",
   "execution_count": 23,
   "metadata": {},
   "outputs": [
    {
     "name": "stdout",
     "output_type": "stream",
     "text": [
      "The combination of transform(compose):  Compose(\n",
      "    <__main__.add_mult object at 0x0000018905ED34C8>\n",
      "    <__main__.mult object at 0x0000018905ED3448>\n",
      ")\n"
     ]
    }
   ],
   "source": [
    "# combine the transforms add_mult and mult\n",
    "\n",
    "data_transform = transforms.Compose([add_mult(), mult()])\n",
    "print(\"The combination of transform(compose): \", data_transform)"
   ]
  },
  {
   "cell_type": "code",
   "execution_count": 24,
   "metadata": {},
   "outputs": [
    {
     "data": {
      "text/plain": [
       "(tensor([2., 2.]), tensor([1.]))"
      ]
     },
     "execution_count": 24,
     "metadata": {},
     "output_type": "execute_result"
    }
   ],
   "source": [
    "data_set[0]"
   ]
  },
  {
   "cell_type": "code",
   "execution_count": 25,
   "metadata": {},
   "outputs": [
    {
     "data": {
      "text/plain": [
       "(tensor([300., 300.]), tensor([200.]))"
      ]
     },
     "execution_count": 25,
     "metadata": {},
     "output_type": "execute_result"
    }
   ],
   "source": [
    "data_transform(data_set[0])"
   ]
  },
  {
   "cell_type": "code",
   "execution_count": 26,
   "metadata": {},
   "outputs": [
    {
     "name": "stdout",
     "output_type": "stream",
     "text": [
      "Original x: tensor([2., 2.]) Original y: tensor([1.])\n",
      "transform x: tensor([300., 300.]) transform y: tensor([200.])\n"
     ]
    }
   ],
   "source": [
    "x, y = data_set[0]\n",
    "x_, y_ = data_transform(data_set[0])\n",
    "\n",
    "print('Original x:', x, 'Original y:', y)\n",
    "print('transform x:', x_, 'transform y:', y_)"
   ]
  },
  {
   "cell_type": "code",
   "execution_count": 27,
   "metadata": {},
   "outputs": [],
   "source": [
    "compose_data_set = toy_set(transform = data_transform)"
   ]
  },
  {
   "cell_type": "code",
   "execution_count": 28,
   "metadata": {},
   "outputs": [
    {
     "name": "stdout",
     "output_type": "stream",
     "text": [
      "Index:  0 Original x:  tensor([2., 2.]) Original y:  tensor([1.])\n",
      "Index:  0 transform x_:  tensor([3., 3.]) transform y_:  tensor([2.])\n",
      "Index:  0 compose x_co: tensor([300., 300.]) compose y_co: tensor([200.])\n",
      "Index:  1 Original x:  tensor([2., 2.]) Original y:  tensor([1.])\n",
      "Index:  1 transform x_:  tensor([3., 3.]) transform y_:  tensor([2.])\n",
      "Index:  1 compose x_co: tensor([300., 300.]) compose y_co: tensor([200.])\n",
      "Index:  2 Original x:  tensor([2., 2.]) Original y:  tensor([1.])\n",
      "Index:  2 transform x_:  tensor([3., 3.]) transform y_:  tensor([2.])\n",
      "Index:  2 compose x_co: tensor([300., 300.]) compose y_co: tensor([200.])\n"
     ]
    }
   ],
   "source": [
    "for i in range(3):\n",
    "    x, y = data_set[i]\n",
    "    print('Index: ', i, 'Original x: ', x, 'Original y: ', y)\n",
    "    x_, y_ = cust_data_set[i]\n",
    "    print('Index: ', i, 'transform x_: ', x_, 'transform y_: ', y_)\n",
    "    x_co, y_co = compose_data_set[i]\n",
    "    print('Index: ', i, 'compose x_co:', x_co, 'compose y_co:', y_co)"
   ]
  },
  {
   "cell_type": "code",
   "execution_count": 29,
   "metadata": {},
   "outputs": [
    {
     "name": "stdout",
     "output_type": "stream",
     "text": [
      "Index: 0 trnsform x: tensor([201., 201.]) transform y: tensor([200.])\n",
      "Index: 1 trnsform x: tensor([201., 201.]) transform y: tensor([200.])\n",
      "Index: 2 trnsform x: tensor([201., 201.]) transform y: tensor([200.])\n"
     ]
    }
   ],
   "source": [
    "my_compose = transforms.Compose([mult(), add_mult()])\n",
    "my_transform_dataset = toy_set(transform = my_compose)\n",
    "for i in range(3):\n",
    "    x, y = my_transform_dataset[i]\n",
    "    print('Index:', i, 'trnsform x:', x, 'transform y:', y)"
   ]
  },
  {
   "cell_type": "code",
   "execution_count": null,
   "metadata": {},
   "outputs": [],
   "source": []
  }
 ],
 "metadata": {
  "kernelspec": {
   "display_name": "Python 3",
   "language": "python",
   "name": "python3"
  },
  "language_info": {
   "codemirror_mode": {
    "name": "ipython",
    "version": 3
   },
   "file_extension": ".py",
   "mimetype": "text/x-python",
   "name": "python",
   "nbconvert_exporter": "python",
   "pygments_lexer": "ipython3",
   "version": "3.7.6"
  }
 },
 "nbformat": 4,
 "nbformat_minor": 4
}
