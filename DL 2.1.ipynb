{
 "cells": [
  {
   "cell_type": "code",
   "execution_count": 2,
   "metadata": {},
   "outputs": [
    {
     "name": "stdout",
     "output_type": "stream",
     "text": [
      "Collecting package metadata (current_repodata.json): ...working... done\n",
      "Solving environment: ...working... done\n",
      "\n",
      "# All requested packages already installed.\n",
      "\n",
      "\n",
      "Note: you may need to restart the kernel to use updated packages.\n"
     ]
    }
   ],
   "source": [
    "conda install pytorch torchvision cudatoolkit=10.2 -c pytorch"
   ]
  },
  {
   "cell_type": "code",
   "execution_count": 1,
   "metadata": {},
   "outputs": [
    {
     "name": "stdout",
     "output_type": "stream",
     "text": [
      "Collecting package metadata (current_repodata.json): ...working... done\n",
      "Solving environment: ...working... done\n",
      "\n",
      "## Package Plan ##\n",
      "\n",
      "  environment location: C:\\ProgramData\\Anaconda3\n",
      "\n",
      "  added / updated specs:\n",
      "    - cpuonly\n",
      "    - pytorch\n",
      "    - torchvision\n",
      "\n",
      "\n",
      "The following packages will be downloaded:\n",
      "\n",
      "    package                    |            build\n",
      "    ---------------------------|-----------------\n",
      "    cpuonly-1.0                |                0           2 KB  pytorch\n",
      "    pytorch-1.5.1              |      py3.7_cpu_0        90.5 MB  pytorch\n",
      "    torchvision-0.6.1          |         py37_cpu         5.8 MB  pytorch\n",
      "    ------------------------------------------------------------\n",
      "                                           Total:        96.3 MB\n",
      "\n",
      "The following NEW packages will be INSTALLED:\n",
      "\n",
      "  cpuonly            pytorch/noarch::cpuonly-1.0-0\n",
      "\n",
      "The following packages will be DOWNGRADED:\n",
      "\n",
      "  pytorch                      1.5.1-py3.7_cuda102_cudnn7_0 --> 1.5.1-py3.7_cpu_0\n",
      "  torchvision                              0.6.1-py37_cu102 --> 0.6.1-py37_cpu\n",
      "\n",
      "\n",
      "\n",
      "Downloading and Extracting Packages\n",
      "\n",
      "cpuonly-1.0          | 2 KB      |            |   0% \n",
      "cpuonly-1.0          | 2 KB      | ########## | 100% \n",
      "\n",
      "pytorch-1.5.1        | 90.5 MB   |            |   0% \n",
      "pytorch-1.5.1        | 90.5 MB   |            |   0% \n",
      "pytorch-1.5.1        | 90.5 MB   |            |   0% \n",
      "pytorch-1.5.1        | 90.5 MB   |            |   0% \n",
      "pytorch-1.5.1        | 90.5 MB   |            |   0% \n",
      "pytorch-1.5.1        | 90.5 MB   |            |   0% \n",
      "pytorch-1.5.1        | 90.5 MB   |            |   0% \n",
      "pytorch-1.5.1        | 90.5 MB   |            |   1% \n",
      "pytorch-1.5.1        | 90.5 MB   |            |   1% \n",
      "pytorch-1.5.1        | 90.5 MB   | 1          |   1% \n",
      "pytorch-1.5.1        | 90.5 MB   | 1          |   1% \n",
      "pytorch-1.5.1        | 90.5 MB   | 1          |   1% \n",
      "pytorch-1.5.1        | 90.5 MB   | 1          |   2% \n",
      "pytorch-1.5.1        | 90.5 MB   | 2          |   2% \n",
      "pytorch-1.5.1        | 90.5 MB   | 2          |   3% \n",
      "pytorch-1.5.1        | 90.5 MB   | 3          |   3% \n",
      "pytorch-1.5.1        | 90.5 MB   | 3          |   3% \n",
      "pytorch-1.5.1        | 90.5 MB   | 3          |   4% \n",
      "pytorch-1.5.1        | 90.5 MB   | 4          |   4% \n",
      "pytorch-1.5.1        | 90.5 MB   | 4          |   5% \n",
      "pytorch-1.5.1        | 90.5 MB   | 5          |   5% \n",
      "pytorch-1.5.1        | 90.5 MB   | 5          |   5% \n",
      "pytorch-1.5.1        | 90.5 MB   | 5          |   6% \n",
      "pytorch-1.5.1        | 90.5 MB   | 5          |   6% \n",
      "pytorch-1.5.1        | 90.5 MB   | 6          |   6% \n",
      "pytorch-1.5.1        | 90.5 MB   | 6          |   7% \n",
      "pytorch-1.5.1        | 90.5 MB   | 6          |   7% \n",
      "pytorch-1.5.1        | 90.5 MB   | 7          |   7% \n",
      "pytorch-1.5.1        | 90.5 MB   | 7          |   7% \n",
      "pytorch-1.5.1        | 90.5 MB   | 7          |   8% \n",
      "pytorch-1.5.1        | 90.5 MB   | 7          |   8% \n",
      "pytorch-1.5.1        | 90.5 MB   | 7          |   8% \n",
      "pytorch-1.5.1        | 90.5 MB   | 7          |   8% \n",
      "pytorch-1.5.1        | 90.5 MB   | 8          |   8% \n",
      "pytorch-1.5.1        | 90.5 MB   | 8          |   8% \n",
      "pytorch-1.5.1        | 90.5 MB   | 8          |   8% \n",
      "pytorch-1.5.1        | 90.5 MB   | 8          |   9% \n",
      "pytorch-1.5.1        | 90.5 MB   | 8          |   9% \n",
      "pytorch-1.5.1        | 90.5 MB   | 8          |   9% \n",
      "pytorch-1.5.1        | 90.5 MB   | 8          |   9% \n",
      "pytorch-1.5.1        | 90.5 MB   | 9          |   9% \n",
      "pytorch-1.5.1        | 90.5 MB   | 9          |   9% \n",
      "pytorch-1.5.1        | 90.5 MB   | 9          |   9% \n",
      "pytorch-1.5.1        | 90.5 MB   | 9          |  10% \n",
      "pytorch-1.5.1        | 90.5 MB   | 9          |  10% \n",
      "pytorch-1.5.1        | 90.5 MB   | 9          |  10% \n",
      "pytorch-1.5.1        | 90.5 MB   | 9          |  10% \n",
      "pytorch-1.5.1        | 90.5 MB   | #          |  10% \n",
      "pytorch-1.5.1        | 90.5 MB   | #          |  10% \n",
      "pytorch-1.5.1        | 90.5 MB   | #          |  10% \n",
      "pytorch-1.5.1        | 90.5 MB   | #          |  11% \n",
      "pytorch-1.5.1        | 90.5 MB   | #          |  11% \n",
      "pytorch-1.5.1        | 90.5 MB   | #          |  11% \n",
      "pytorch-1.5.1        | 90.5 MB   | #          |  11% \n",
      "pytorch-1.5.1        | 90.5 MB   | #          |  11% \n",
      "pytorch-1.5.1        | 90.5 MB   | #1         |  11% \n",
      "pytorch-1.5.1        | 90.5 MB   | #1         |  11% \n",
      "pytorch-1.5.1        | 90.5 MB   | #1         |  11% \n",
      "pytorch-1.5.1        | 90.5 MB   | #1         |  11% \n",
      "pytorch-1.5.1        | 90.5 MB   | #1         |  12% \n",
      "pytorch-1.5.1        | 90.5 MB   | #1         |  12% \n",
      "pytorch-1.5.1        | 90.5 MB   | #1         |  12% \n",
      "pytorch-1.5.1        | 90.5 MB   | #2         |  12% \n",
      "pytorch-1.5.1        | 90.5 MB   | #2         |  12% \n",
      "pytorch-1.5.1        | 90.5 MB   | #2         |  12% \n",
      "pytorch-1.5.1        | 90.5 MB   | #2         |  12% \n",
      "pytorch-1.5.1        | 90.5 MB   | #2         |  12% \n",
      "pytorch-1.5.1        | 90.5 MB   | #2         |  13% \n",
      "pytorch-1.5.1        | 90.5 MB   | #2         |  13% \n",
      "pytorch-1.5.1        | 90.5 MB   | #2         |  13% \n",
      "pytorch-1.5.1        | 90.5 MB   | #2         |  13% \n",
      "pytorch-1.5.1        | 90.5 MB   | #3         |  13% \n",
      "pytorch-1.5.1        | 90.5 MB   | #3         |  13% \n",
      "pytorch-1.5.1        | 90.5 MB   | #3         |  13% \n",
      "pytorch-1.5.1        | 90.5 MB   | #3         |  13% \n",
      "pytorch-1.5.1        | 90.5 MB   | #3         |  13% \n",
      "pytorch-1.5.1        | 90.5 MB   | #3         |  14% \n",
      "pytorch-1.5.1        | 90.5 MB   | #3         |  14% \n",
      "pytorch-1.5.1        | 90.5 MB   | #3         |  14% \n",
      "pytorch-1.5.1        | 90.5 MB   | #3         |  14% \n",
      "pytorch-1.5.1        | 90.5 MB   | #3         |  14% \n",
      "pytorch-1.5.1        | 90.5 MB   | #4         |  14% \n",
      "pytorch-1.5.1        | 90.5 MB   | #4         |  14% \n",
      "pytorch-1.5.1        | 90.5 MB   | #4         |  14% \n",
      "pytorch-1.5.1        | 90.5 MB   | #4         |  14% \n",
      "pytorch-1.5.1        | 90.5 MB   | #4         |  14% \n",
      "pytorch-1.5.1        | 90.5 MB   | #4         |  14% \n",
      "pytorch-1.5.1        | 90.5 MB   | #4         |  14% \n",
      "pytorch-1.5.1        | 90.5 MB   | #4         |  14% \n",
      "pytorch-1.5.1        | 90.5 MB   | #4         |  14% \n",
      "pytorch-1.5.1        | 90.5 MB   | #4         |  14% \n",
      "pytorch-1.5.1        | 90.5 MB   | #4         |  14% \n",
      "pytorch-1.5.1        | 90.5 MB   | #4         |  14% \n",
      "pytorch-1.5.1        | 90.5 MB   | #4         |  14% \n",
      "pytorch-1.5.1        | 90.5 MB   | #4         |  15% \n",
      "pytorch-1.5.1        | 90.5 MB   | #4         |  15% \n",
      "pytorch-1.5.1        | 90.5 MB   | #4         |  15% \n",
      "pytorch-1.5.1        | 90.5 MB   | #4         |  15% \n",
      "pytorch-1.5.1        | 90.5 MB   | #4         |  15% \n",
      "pytorch-1.5.1        | 90.5 MB   | #4         |  15% \n",
      "pytorch-1.5.1        | 90.5 MB   | #4         |  15% \n",
      "pytorch-1.5.1        | 90.5 MB   | #4         |  15% \n",
      "pytorch-1.5.1        | 90.5 MB   | #4         |  15% \n",
      "pytorch-1.5.1        | 90.5 MB   | #4         |  15% \n",
      "pytorch-1.5.1        | 90.5 MB   | #5         |  15% \n",
      "pytorch-1.5.1        | 90.5 MB   | #5         |  15% \n",
      "pytorch-1.5.1        | 90.5 MB   | #5         |  15% \n",
      "pytorch-1.5.1        | 90.5 MB   | #5         |  15% \n",
      "pytorch-1.5.1        | 90.5 MB   | #5         |  15% \n",
      "pytorch-1.5.1        | 90.5 MB   | #5         |  15% \n",
      "pytorch-1.5.1        | 90.5 MB   | #5         |  15% \n",
      "pytorch-1.5.1        | 90.5 MB   | #5         |  15% \n",
      "pytorch-1.5.1        | 90.5 MB   | #5         |  15% \n",
      "pytorch-1.5.1        | 90.5 MB   | #5         |  16% \n",
      "pytorch-1.5.1        | 90.5 MB   | #5         |  16% \n",
      "pytorch-1.5.1        | 90.5 MB   | #5         |  16% \n",
      "pytorch-1.5.1        | 90.5 MB   | #5         |  16% \n",
      "pytorch-1.5.1        | 90.5 MB   | #5         |  16% \n",
      "pytorch-1.5.1        | 90.5 MB   | #5         |  16% \n",
      "pytorch-1.5.1        | 90.5 MB   | #5         |  16% \n",
      "pytorch-1.5.1        | 90.5 MB   | #5         |  16% \n",
      "pytorch-1.5.1        | 90.5 MB   | #5         |  16% \n",
      "pytorch-1.5.1        | 90.5 MB   | #6         |  16% \n",
      "pytorch-1.5.1        | 90.5 MB   | #6         |  16% \n",
      "pytorch-1.5.1        | 90.5 MB   | #6         |  16% \n",
      "pytorch-1.5.1        | 90.5 MB   | #6         |  16% \n",
      "pytorch-1.5.1        | 90.5 MB   | #6         |  16% \n",
      "pytorch-1.5.1        | 90.5 MB   | #6         |  16% \n",
      "pytorch-1.5.1        | 90.5 MB   | #6         |  16% \n",
      "pytorch-1.5.1        | 90.5 MB   | #6         |  16% \n",
      "pytorch-1.5.1        | 90.5 MB   | #6         |  16% \n",
      "pytorch-1.5.1        | 90.5 MB   | #6         |  16% \n",
      "pytorch-1.5.1        | 90.5 MB   | #6         |  17% \n",
      "pytorch-1.5.1        | 90.5 MB   | #6         |  17% \n",
      "pytorch-1.5.1        | 90.5 MB   | #6         |  17% \n",
      "pytorch-1.5.1        | 90.5 MB   | #6         |  17% \n",
      "pytorch-1.5.1        | 90.5 MB   | #6         |  17% \n",
      "pytorch-1.5.1        | 90.5 MB   | #6         |  17% \n",
      "pytorch-1.5.1        | 90.5 MB   | #6         |  17% \n",
      "pytorch-1.5.1        | 90.5 MB   | #6         |  17% \n",
      "pytorch-1.5.1        | 90.5 MB   | #6         |  17% \n",
      "pytorch-1.5.1        | 90.5 MB   | #6         |  17% \n",
      "pytorch-1.5.1        | 90.5 MB   | #6         |  17% \n",
      "pytorch-1.5.1        | 90.5 MB   | #6         |  17% \n",
      "pytorch-1.5.1        | 90.5 MB   | #6         |  17% \n",
      "pytorch-1.5.1        | 90.5 MB   | #6         |  17% \n",
      "pytorch-1.5.1        | 90.5 MB   | #7         |  17% \n",
      "pytorch-1.5.1        | 90.5 MB   | #7         |  17% \n",
      "pytorch-1.5.1        | 90.5 MB   | #7         |  17% \n",
      "pytorch-1.5.1        | 90.5 MB   | #7         |  17% \n",
      "pytorch-1.5.1        | 90.5 MB   | #7         |  17% \n",
      "pytorch-1.5.1        | 90.5 MB   | #7         |  17% \n",
      "pytorch-1.5.1        | 90.5 MB   | #7         |  17% \n",
      "pytorch-1.5.1        | 90.5 MB   | #7         |  17% \n",
      "pytorch-1.5.1        | 90.5 MB   | #7         |  17% \n",
      "pytorch-1.5.1        | 90.5 MB   | #7         |  17% \n",
      "pytorch-1.5.1        | 90.5 MB   | #7         |  17% \n",
      "pytorch-1.5.1        | 90.5 MB   | #7         |  18% \n",
      "pytorch-1.5.1        | 90.5 MB   | #7         |  18% \n",
      "pytorch-1.5.1        | 90.5 MB   | #7         |  18% \n",
      "pytorch-1.5.1        | 90.5 MB   | #7         |  18% \n",
      "pytorch-1.5.1        | 90.5 MB   | #7         |  18% \n",
      "pytorch-1.5.1        | 90.5 MB   | #7         |  18% \n",
      "pytorch-1.5.1        | 90.5 MB   | #7         |  18% \n",
      "pytorch-1.5.1        | 90.5 MB   | #7         |  18% \n",
      "pytorch-1.5.1        | 90.5 MB   | #7         |  18% \n",
      "pytorch-1.5.1        | 90.5 MB   | #7         |  18% \n",
      "pytorch-1.5.1        | 90.5 MB   | #8         |  18% \n",
      "pytorch-1.5.1        | 90.5 MB   | #8         |  18% \n",
      "pytorch-1.5.1        | 90.5 MB   | #8         |  18% \n",
      "pytorch-1.5.1        | 90.5 MB   | #8         |  18% \n",
      "pytorch-1.5.1        | 90.5 MB   | #8         |  18% \n",
      "pytorch-1.5.1        | 90.5 MB   | #8         |  18% \n",
      "pytorch-1.5.1        | 90.5 MB   | #8         |  18% \n",
      "pytorch-1.5.1        | 90.5 MB   | #8         |  18% \n",
      "pytorch-1.5.1        | 90.5 MB   | #8         |  18% \n",
      "pytorch-1.5.1        | 90.5 MB   | #8         |  18% \n",
      "pytorch-1.5.1        | 90.5 MB   | #8         |  18% \n",
      "pytorch-1.5.1        | 90.5 MB   | #8         |  19% \n",
      "pytorch-1.5.1        | 90.5 MB   | #8         |  19% \n",
      "pytorch-1.5.1        | 90.5 MB   | #8         |  19% \n",
      "pytorch-1.5.1        | 90.5 MB   | #8         |  19% \n",
      "pytorch-1.5.1        | 90.5 MB   | #8         |  19% \n",
      "pytorch-1.5.1        | 90.5 MB   | #8         |  19% \n",
      "pytorch-1.5.1        | 90.5 MB   | #8         |  19% \n",
      "pytorch-1.5.1        | 90.5 MB   | #8         |  19% \n",
      "pytorch-1.5.1        | 90.5 MB   | #8         |  19% \n",
      "pytorch-1.5.1        | 90.5 MB   | #8         |  19% \n",
      "pytorch-1.5.1        | 90.5 MB   | #8         |  19% \n",
      "pytorch-1.5.1        | 90.5 MB   | #9         |  19% \n",
      "pytorch-1.5.1        | 90.5 MB   | #9         |  19% \n",
      "pytorch-1.5.1        | 90.5 MB   | #9         |  19% \n",
      "pytorch-1.5.1        | 90.5 MB   | #9         |  19% \n",
      "pytorch-1.5.1        | 90.5 MB   | #9         |  19% \n",
      "pytorch-1.5.1        | 90.5 MB   | #9         |  19% \n",
      "pytorch-1.5.1        | 90.5 MB   | #9         |  19% \n",
      "pytorch-1.5.1        | 90.5 MB   | #9         |  19% \n",
      "pytorch-1.5.1        | 90.5 MB   | #9         |  19% \n",
      "pytorch-1.5.1        | 90.5 MB   | #9         |  19% \n",
      "pytorch-1.5.1        | 90.5 MB   | #9         |  19% \n",
      "pytorch-1.5.1        | 90.5 MB   | #9         |  20% \n",
      "pytorch-1.5.1        | 90.5 MB   | #9         |  20% \n",
      "pytorch-1.5.1        | 90.5 MB   | #9         |  20% \n",
      "pytorch-1.5.1        | 90.5 MB   | #9         |  20% \n",
      "pytorch-1.5.1        | 90.5 MB   | #9         |  20% \n",
      "pytorch-1.5.1        | 90.5 MB   | #9         |  20% \n",
      "pytorch-1.5.1        | 90.5 MB   | #9         |  20% \n",
      "pytorch-1.5.1        | 90.5 MB   | #9         |  20% \n",
      "pytorch-1.5.1        | 90.5 MB   | #9         |  20% \n",
      "pytorch-1.5.1        | 90.5 MB   | #9         |  20% \n",
      "pytorch-1.5.1        | 90.5 MB   | #9         |  20% \n",
      "pytorch-1.5.1        | 90.5 MB   | #9         |  20% \n",
      "pytorch-1.5.1        | 90.5 MB   | #9         |  20% \n",
      "pytorch-1.5.1        | 90.5 MB   | ##         |  20% \n",
      "pytorch-1.5.1        | 90.5 MB   | ##         |  20% \n",
      "pytorch-1.5.1        | 90.5 MB   | ##         |  20% \n",
      "pytorch-1.5.1        | 90.5 MB   | ##         |  20% \n",
      "pytorch-1.5.1        | 90.5 MB   | ##         |  20% \n",
      "pytorch-1.5.1        | 90.5 MB   | ##         |  20% \n",
      "pytorch-1.5.1        | 90.5 MB   | ##         |  20% \n",
      "pytorch-1.5.1        | 90.5 MB   | ##         |  20% \n",
      "pytorch-1.5.1        | 90.5 MB   | ##         |  20% \n",
      "pytorch-1.5.1        | 90.5 MB   | ##         |  20% \n",
      "pytorch-1.5.1        | 90.5 MB   | ##         |  21% \n",
      "pytorch-1.5.1        | 90.5 MB   | ##         |  21% \n",
      "pytorch-1.5.1        | 90.5 MB   | ##         |  21% \n",
      "pytorch-1.5.1        | 90.5 MB   | ##         |  21% \n",
      "pytorch-1.5.1        | 90.5 MB   | ##         |  21% \n",
      "pytorch-1.5.1        | 90.5 MB   | ##         |  21% \n",
      "pytorch-1.5.1        | 90.5 MB   | ##         |  21% \n",
      "pytorch-1.5.1        | 90.5 MB   | ##         |  21% \n",
      "pytorch-1.5.1        | 90.5 MB   | ##         |  21% \n",
      "pytorch-1.5.1        | 90.5 MB   | ##         |  21% \n",
      "pytorch-1.5.1        | 90.5 MB   | ##         |  21% \n",
      "pytorch-1.5.1        | 90.5 MB   | ##         |  21% \n",
      "pytorch-1.5.1        | 90.5 MB   | ##         |  21% \n",
      "pytorch-1.5.1        | 90.5 MB   | ##1        |  21% \n",
      "pytorch-1.5.1        | 90.5 MB   | ##1        |  21% \n",
      "pytorch-1.5.1        | 90.5 MB   | ##1        |  21% \n",
      "pytorch-1.5.1        | 90.5 MB   | ##1        |  21% \n",
      "pytorch-1.5.1        | 90.5 MB   | ##1        |  21% \n",
      "pytorch-1.5.1        | 90.5 MB   | ##1        |  21% \n",
      "pytorch-1.5.1        | 90.5 MB   | ##1        |  21% \n",
      "pytorch-1.5.1        | 90.5 MB   | ##1        |  21% \n",
      "pytorch-1.5.1        | 90.5 MB   | ##1        |  21% \n",
      "pytorch-1.5.1        | 90.5 MB   | ##1        |  22% \n",
      "pytorch-1.5.1        | 90.5 MB   | ##1        |  22% \n",
      "pytorch-1.5.1        | 90.5 MB   | ##1        |  22% \n",
      "pytorch-1.5.1        | 90.5 MB   | ##1        |  22% \n",
      "pytorch-1.5.1        | 90.5 MB   | ##1        |  22% \n",
      "pytorch-1.5.1        | 90.5 MB   | ##1        |  22% \n",
      "pytorch-1.5.1        | 90.5 MB   | ##1        |  22% \n",
      "pytorch-1.5.1        | 90.5 MB   | ##1        |  22% \n",
      "pytorch-1.5.1        | 90.5 MB   | ##1        |  22% \n",
      "pytorch-1.5.1        | 90.5 MB   | ##1        |  22% \n",
      "pytorch-1.5.1        | 90.5 MB   | ##2        |  22% \n",
      "pytorch-1.5.1        | 90.5 MB   | ##2        |  22% \n",
      "pytorch-1.5.1        | 90.5 MB   | ##2        |  22% \n",
      "pytorch-1.5.1        | 90.5 MB   | ##2        |  22% \n",
      "pytorch-1.5.1        | 90.5 MB   | ##2        |  22% \n",
      "pytorch-1.5.1        | 90.5 MB   | ##2        |  22% \n",
      "pytorch-1.5.1        | 90.5 MB   | ##2        |  22% \n",
      "pytorch-1.5.1        | 90.5 MB   | ##2        |  22% \n",
      "pytorch-1.5.1        | 90.5 MB   | ##2        |  23% \n",
      "pytorch-1.5.1        | 90.5 MB   | ##2        |  23% \n",
      "pytorch-1.5.1        | 90.5 MB   | ##2        |  23% \n",
      "pytorch-1.5.1        | 90.5 MB   | ##2        |  23% \n",
      "pytorch-1.5.1        | 90.5 MB   | ##2        |  23% \n",
      "pytorch-1.5.1        | 90.5 MB   | ##2        |  23% \n",
      "pytorch-1.5.1        | 90.5 MB   | ##2        |  23% \n",
      "pytorch-1.5.1        | 90.5 MB   | ##2        |  23% \n",
      "pytorch-1.5.1        | 90.5 MB   | ##2        |  23% \n",
      "pytorch-1.5.1        | 90.5 MB   | ##2        |  23% \n",
      "pytorch-1.5.1        | 90.5 MB   | ##2        |  23% \n",
      "pytorch-1.5.1        | 90.5 MB   | ##2        |  23% \n",
      "pytorch-1.5.1        | 90.5 MB   | ##3        |  23% \n",
      "pytorch-1.5.1        | 90.5 MB   | ##3        |  23% \n",
      "pytorch-1.5.1        | 90.5 MB   | ##3        |  23% \n",
      "pytorch-1.5.1        | 90.5 MB   | ##3        |  23% \n",
      "pytorch-1.5.1        | 90.5 MB   | ##3        |  23% \n",
      "pytorch-1.5.1        | 90.5 MB   | ##3        |  23% \n",
      "pytorch-1.5.1        | 90.5 MB   | ##3        |  23% \n",
      "pytorch-1.5.1        | 90.5 MB   | ##3        |  23% \n",
      "pytorch-1.5.1        | 90.5 MB   | ##3        |  23% \n",
      "pytorch-1.5.1        | 90.5 MB   | ##3        |  23% \n",
      "pytorch-1.5.1        | 90.5 MB   | ##3        |  23% \n",
      "pytorch-1.5.1        | 90.5 MB   | ##3        |  23% \n",
      "pytorch-1.5.1        | 90.5 MB   | ##3        |  23% \n",
      "pytorch-1.5.1        | 90.5 MB   | ##3        |  23% \n",
      "pytorch-1.5.1        | 90.5 MB   | ##3        |  23% \n",
      "pytorch-1.5.1        | 90.5 MB   | ##3        |  24% \n",
      "pytorch-1.5.1        | 90.5 MB   | ##3        |  24% \n",
      "pytorch-1.5.1        | 90.5 MB   | ##3        |  24% \n",
      "pytorch-1.5.1        | 90.5 MB   | ##3        |  24% \n",
      "pytorch-1.5.1        | 90.5 MB   | ##3        |  24% \n",
      "pytorch-1.5.1        | 90.5 MB   | ##3        |  24% \n",
      "pytorch-1.5.1        | 90.5 MB   | ##3        |  24% \n",
      "pytorch-1.5.1        | 90.5 MB   | ##3        |  24% \n",
      "pytorch-1.5.1        | 90.5 MB   | ##3        |  24% \n",
      "pytorch-1.5.1        | 90.5 MB   | ##3        |  24% \n",
      "pytorch-1.5.1        | 90.5 MB   | ##3        |  24% \n",
      "pytorch-1.5.1        | 90.5 MB   | ##3        |  24% \n",
      "pytorch-1.5.1        | 90.5 MB   | ##3        |  24% \n",
      "pytorch-1.5.1        | 90.5 MB   | ##3        |  24% \n",
      "pytorch-1.5.1        | 90.5 MB   | ##3        |  24% \n",
      "pytorch-1.5.1        | 90.5 MB   | ##3        |  24% \n",
      "pytorch-1.5.1        | 90.5 MB   | ##3        |  24% \n",
      "pytorch-1.5.1        | 90.5 MB   | ##3        |  24% \n",
      "pytorch-1.5.1        | 90.5 MB   | ##3        |  24% \n",
      "pytorch-1.5.1        | 90.5 MB   | ##3        |  24% \n",
      "pytorch-1.5.1        | 90.5 MB   | ##3        |  24% \n",
      "pytorch-1.5.1        | 90.5 MB   | ##3        |  24% \n",
      "pytorch-1.5.1        | 90.5 MB   | ##3        |  24% \n",
      "pytorch-1.5.1        | 90.5 MB   | ##3        |  24% \n",
      "pytorch-1.5.1        | 90.5 MB   | ##3        |  24% \n",
      "pytorch-1.5.1        | 90.5 MB   | ##4        |  24% \n",
      "pytorch-1.5.1        | 90.5 MB   | ##4        |  24% \n",
      "pytorch-1.5.1        | 90.5 MB   | ##4        |  24% \n",
      "pytorch-1.5.1        | 90.5 MB   | ##4        |  24% \n",
      "pytorch-1.5.1        | 90.5 MB   | ##4        |  24% \n",
      "pytorch-1.5.1        | 90.5 MB   | ##4        |  24% \n",
      "pytorch-1.5.1        | 90.5 MB   | ##4        |  24% \n",
      "pytorch-1.5.1        | 90.5 MB   | ##4        |  24% \n",
      "pytorch-1.5.1        | 90.5 MB   | ##4        |  24% \n",
      "pytorch-1.5.1        | 90.5 MB   | ##4        |  24% \n",
      "pytorch-1.5.1        | 90.5 MB   | ##4        |  24% \n",
      "pytorch-1.5.1        | 90.5 MB   | ##4        |  24% \n",
      "pytorch-1.5.1        | 90.5 MB   | ##4        |  24% \n",
      "pytorch-1.5.1        | 90.5 MB   | ##4        |  25% \n",
      "pytorch-1.5.1        | 90.5 MB   | ##4        |  25% \n",
      "pytorch-1.5.1        | 90.5 MB   | ##4        |  25% \n",
      "pytorch-1.5.1        | 90.5 MB   | ##4        |  25% \n",
      "pytorch-1.5.1        | 90.5 MB   | ##4        |  25% \n",
      "pytorch-1.5.1        | 90.5 MB   | ##5        |  25% \n",
      "pytorch-1.5.1        | 90.5 MB   | ##5        |  25% \n",
      "pytorch-1.5.1        | 90.5 MB   | ##5        |  25% \n",
      "pytorch-1.5.1        | 90.5 MB   | ##5        |  26% \n",
      "pytorch-1.5.1        | 90.5 MB   | ##5        |  26% \n",
      "pytorch-1.5.1        | 90.5 MB   | ##6        |  26% \n",
      "pytorch-1.5.1        | 90.5 MB   | ##6        |  26% \n",
      "pytorch-1.5.1        | 90.5 MB   | ##6        |  26% \n",
      "pytorch-1.5.1        | 90.5 MB   | ##6        |  27% \n",
      "pytorch-1.5.1        | 90.5 MB   | ##6        |  27% \n",
      "pytorch-1.5.1        | 90.5 MB   | ##6        |  27% \n",
      "pytorch-1.5.1        | 90.5 MB   | ##7        |  27% \n",
      "pytorch-1.5.1        | 90.5 MB   | ##7        |  27% \n",
      "pytorch-1.5.1        | 90.5 MB   | ##7        |  27% \n",
      "pytorch-1.5.1        | 90.5 MB   | ##7        |  28% \n",
      "pytorch-1.5.1        | 90.5 MB   | ##7        |  28% \n",
      "pytorch-1.5.1        | 90.5 MB   | ##7        |  28% \n",
      "pytorch-1.5.1        | 90.5 MB   | ##8        |  28% \n",
      "pytorch-1.5.1        | 90.5 MB   | ##8        |  28% \n",
      "pytorch-1.5.1        | 90.5 MB   | ##8        |  28% \n",
      "pytorch-1.5.1        | 90.5 MB   | ##8        |  28% \n",
      "pytorch-1.5.1        | 90.5 MB   | ##8        |  28% \n",
      "pytorch-1.5.1        | 90.5 MB   | ##8        |  29% \n",
      "pytorch-1.5.1        | 90.5 MB   | ##8        |  29% \n",
      "pytorch-1.5.1        | 90.5 MB   | ##8        |  29% \n",
      "pytorch-1.5.1        | 90.5 MB   | ##8        |  29% \n",
      "pytorch-1.5.1        | 90.5 MB   | ##9        |  29% \n",
      "pytorch-1.5.1        | 90.5 MB   | ##9        |  29% \n",
      "pytorch-1.5.1        | 90.5 MB   | ##9        |  29% \n",
      "pytorch-1.5.1        | 90.5 MB   | ##9        |  29% \n",
      "pytorch-1.5.1        | 90.5 MB   | ##9        |  30% \n",
      "pytorch-1.5.1        | 90.5 MB   | ##9        |  30% \n",
      "pytorch-1.5.1        | 90.5 MB   | ##9        |  30% \n",
      "pytorch-1.5.1        | 90.5 MB   | ###        |  30% \n",
      "pytorch-1.5.1        | 90.5 MB   | ###        |  30% \n",
      "pytorch-1.5.1        | 90.5 MB   | ###        |  30% \n",
      "pytorch-1.5.1        | 90.5 MB   | ###        |  31% \n",
      "pytorch-1.5.1        | 90.5 MB   | ###        |  31% \n",
      "pytorch-1.5.1        | 90.5 MB   | ###        |  31% \n",
      "pytorch-1.5.1        | 90.5 MB   | ###1       |  31% \n",
      "pytorch-1.5.1        | 90.5 MB   | ###1       |  31% \n",
      "pytorch-1.5.1        | 90.5 MB   | ###1       |  32% \n",
      "pytorch-1.5.1        | 90.5 MB   | ###1       |  32% \n",
      "pytorch-1.5.1        | 90.5 MB   | ###1       |  32% \n",
      "pytorch-1.5.1        | 90.5 MB   | ###2       |  32% \n",
      "pytorch-1.5.1        | 90.5 MB   | ###2       |  32% \n",
      "pytorch-1.5.1        | 90.5 MB   | ###2       |  32% \n",
      "pytorch-1.5.1        | 90.5 MB   | ###2       |  33% \n",
      "pytorch-1.5.1        | 90.5 MB   | ###2       |  33% \n",
      "pytorch-1.5.1        | 90.5 MB   | ###2       |  33% \n",
      "pytorch-1.5.1        | 90.5 MB   | ###3       |  33% \n",
      "pytorch-1.5.1        | 90.5 MB   | ###3       |  33% \n",
      "pytorch-1.5.1        | 90.5 MB   | ###3       |  33% \n",
      "pytorch-1.5.1        | 90.5 MB   | ###3       |  33% \n",
      "pytorch-1.5.1        | 90.5 MB   | ###3       |  34% \n",
      "pytorch-1.5.1        | 90.5 MB   | ###3       |  34% \n",
      "pytorch-1.5.1        | 90.5 MB   | ###4       |  34% \n",
      "pytorch-1.5.1        | 90.5 MB   | ###4       |  34% \n",
      "pytorch-1.5.1        | 90.5 MB   | ###4       |  34% \n",
      "pytorch-1.5.1        | 90.5 MB   | ###4       |  35% \n",
      "pytorch-1.5.1        | 90.5 MB   | ###4       |  35% \n",
      "pytorch-1.5.1        | 90.5 MB   | ###4       |  35% \n",
      "pytorch-1.5.1        | 90.5 MB   | ###4       |  35% \n",
      "pytorch-1.5.1        | 90.5 MB   | ###4       |  35% \n",
      "pytorch-1.5.1        | 90.5 MB   | ###5       |  35% \n",
      "pytorch-1.5.1        | 90.5 MB   | ###5       |  35% \n",
      "pytorch-1.5.1        | 90.5 MB   | ###5       |  35% \n",
      "pytorch-1.5.1        | 90.5 MB   | ###5       |  36% \n",
      "pytorch-1.5.1        | 90.5 MB   | ###5       |  36% \n",
      "pytorch-1.5.1        | 90.5 MB   | ###5       |  36% \n",
      "pytorch-1.5.1        | 90.5 MB   | ###5       |  36% \n",
      "pytorch-1.5.1        | 90.5 MB   | ###6       |  36% \n",
      "pytorch-1.5.1        | 90.5 MB   | ###6       |  36% \n",
      "pytorch-1.5.1        | 90.5 MB   | ###6       |  36% \n",
      "pytorch-1.5.1        | 90.5 MB   | ###6       |  36% \n",
      "pytorch-1.5.1        | 90.5 MB   | ###6       |  36% \n",
      "pytorch-1.5.1        | 90.5 MB   | ###6       |  37% \n",
      "pytorch-1.5.1        | 90.5 MB   | ###6       |  37% \n",
      "pytorch-1.5.1        | 90.5 MB   | ###6       |  37% \n",
      "pytorch-1.5.1        | 90.5 MB   | ###6       |  37% \n",
      "pytorch-1.5.1        | 90.5 MB   | ###6       |  37% \n",
      "pytorch-1.5.1        | 90.5 MB   | ###7       |  37% \n",
      "pytorch-1.5.1        | 90.5 MB   | ###7       |  37% \n",
      "pytorch-1.5.1        | 90.5 MB   | ###7       |  37% \n",
      "pytorch-1.5.1        | 90.5 MB   | ###7       |  37% \n",
      "pytorch-1.5.1        | 90.5 MB   | ###7       |  37% \n",
      "pytorch-1.5.1        | 90.5 MB   | ###7       |  38% \n",
      "pytorch-1.5.1        | 90.5 MB   | ###7       |  38% \n",
      "pytorch-1.5.1        | 90.5 MB   | ###7       |  38% \n",
      "pytorch-1.5.1        | 90.5 MB   | ###7       |  38% \n",
      "pytorch-1.5.1        | 90.5 MB   | ###7       |  38% \n",
      "pytorch-1.5.1        | 90.5 MB   | ###8       |  38% \n",
      "pytorch-1.5.1        | 90.5 MB   | ###8       |  38% \n",
      "pytorch-1.5.1        | 90.5 MB   | ###8       |  38% \n",
      "pytorch-1.5.1        | 90.5 MB   | ###8       |  38% \n",
      "pytorch-1.5.1        | 90.5 MB   | ###8       |  38% \n",
      "pytorch-1.5.1        | 90.5 MB   | ###8       |  39% \n",
      "pytorch-1.5.1        | 90.5 MB   | ###8       |  39% \n",
      "pytorch-1.5.1        | 90.5 MB   | ###8       |  39% \n",
      "pytorch-1.5.1        | 90.5 MB   | ###8       |  39% \n",
      "pytorch-1.5.1        | 90.5 MB   | ###8       |  39% \n",
      "pytorch-1.5.1        | 90.5 MB   | ###9       |  39% \n",
      "pytorch-1.5.1        | 90.5 MB   | ###9       |  39% \n",
      "pytorch-1.5.1        | 90.5 MB   | ###9       |  39% \n",
      "pytorch-1.5.1        | 90.5 MB   | ###9       |  39% \n",
      "pytorch-1.5.1        | 90.5 MB   | ###9       |  39% \n",
      "pytorch-1.5.1        | 90.5 MB   | ###9       |  39% \n",
      "pytorch-1.5.1        | 90.5 MB   | ###9       |  40% \n",
      "pytorch-1.5.1        | 90.5 MB   | ###9       |  40% \n",
      "pytorch-1.5.1        | 90.5 MB   | ###9       |  40% \n",
      "pytorch-1.5.1        | 90.5 MB   | ###9       |  40% \n",
      "pytorch-1.5.1        | 90.5 MB   | ###9       |  40% \n",
      "pytorch-1.5.1        | 90.5 MB   | ###9       |  40% \n",
      "pytorch-1.5.1        | 90.5 MB   | ###9       |  40% \n",
      "pytorch-1.5.1        | 90.5 MB   | ####       |  40% \n",
      "pytorch-1.5.1        | 90.5 MB   | ####       |  40% \n",
      "pytorch-1.5.1        | 90.5 MB   | ####       |  40% \n",
      "pytorch-1.5.1        | 90.5 MB   | ####       |  40% \n",
      "pytorch-1.5.1        | 90.5 MB   | ####       |  40% \n",
      "pytorch-1.5.1        | 90.5 MB   | ####       |  40% \n",
      "pytorch-1.5.1        | 90.5 MB   | ####       |  40% \n",
      "pytorch-1.5.1        | 90.5 MB   | ####       |  40% \n",
      "pytorch-1.5.1        | 90.5 MB   | ####       |  41% \n",
      "pytorch-1.5.1        | 90.5 MB   | ####       |  41% \n",
      "pytorch-1.5.1        | 90.5 MB   | ####       |  41% \n",
      "pytorch-1.5.1        | 90.5 MB   | ####       |  41% \n",
      "pytorch-1.5.1        | 90.5 MB   | ####       |  41% \n",
      "pytorch-1.5.1        | 90.5 MB   | ####       |  41% \n",
      "pytorch-1.5.1        | 90.5 MB   | ####       |  41% \n",
      "pytorch-1.5.1        | 90.5 MB   | ####       |  41% \n",
      "pytorch-1.5.1        | 90.5 MB   | ####       |  41% \n",
      "pytorch-1.5.1        | 90.5 MB   | ####1      |  41% \n",
      "pytorch-1.5.1        | 90.5 MB   | ####1      |  41% \n",
      "pytorch-1.5.1        | 90.5 MB   | ####1      |  41% \n",
      "pytorch-1.5.1        | 90.5 MB   | ####1      |  41% \n",
      "pytorch-1.5.1        | 90.5 MB   | ####1      |  41% \n",
      "pytorch-1.5.1        | 90.5 MB   | ####1      |  41% \n",
      "pytorch-1.5.1        | 90.5 MB   | ####1      |  41% \n",
      "pytorch-1.5.1        | 90.5 MB   | ####1      |  42% \n",
      "pytorch-1.5.1        | 90.5 MB   | ####1      |  42% \n",
      "pytorch-1.5.1        | 90.5 MB   | ####1      |  42% \n",
      "pytorch-1.5.1        | 90.5 MB   | ####1      |  42% \n",
      "pytorch-1.5.1        | 90.5 MB   | ####1      |  42% \n",
      "pytorch-1.5.1        | 90.5 MB   | ####1      |  42% \n",
      "pytorch-1.5.1        | 90.5 MB   | ####1      |  42% \n",
      "pytorch-1.5.1        | 90.5 MB   | ####2      |  42% \n",
      "pytorch-1.5.1        | 90.5 MB   | ####2      |  42% \n",
      "pytorch-1.5.1        | 90.5 MB   | ####2      |  42% \n",
      "pytorch-1.5.1        | 90.5 MB   | ####2      |  42% \n",
      "pytorch-1.5.1        | 90.5 MB   | ####2      |  42% \n",
      "pytorch-1.5.1        | 90.5 MB   | ####2      |  42% \n",
      "pytorch-1.5.1        | 90.5 MB   | ####2      |  42% \n",
      "pytorch-1.5.1        | 90.5 MB   | ####2      |  42% \n",
      "pytorch-1.5.1        | 90.5 MB   | ####2      |  42% \n",
      "pytorch-1.5.1        | 90.5 MB   | ####2      |  42% \n",
      "pytorch-1.5.1        | 90.5 MB   | ####2      |  42% \n",
      "pytorch-1.5.1        | 90.5 MB   | ####2      |  43% \n",
      "pytorch-1.5.1        | 90.5 MB   | ####2      |  43% \n",
      "pytorch-1.5.1        | 90.5 MB   | ####2      |  43% \n",
      "pytorch-1.5.1        | 90.5 MB   | ####2      |  43% \n",
      "pytorch-1.5.1        | 90.5 MB   | ####2      |  43% \n",
      "pytorch-1.5.1        | 90.5 MB   | ####2      |  43% \n",
      "pytorch-1.5.1        | 90.5 MB   | ####2      |  43% \n",
      "pytorch-1.5.1        | 90.5 MB   | ####2      |  43% \n",
      "pytorch-1.5.1        | 90.5 MB   | ####2      |  43% \n",
      "pytorch-1.5.1        | 90.5 MB   | ####2      |  43% \n",
      "pytorch-1.5.1        | 90.5 MB   | ####2      |  43% \n",
      "pytorch-1.5.1        | 90.5 MB   | ####2      |  43% \n",
      "pytorch-1.5.1        | 90.5 MB   | ####2      |  43% \n",
      "pytorch-1.5.1        | 90.5 MB   | ####3      |  43% \n",
      "pytorch-1.5.1        | 90.5 MB   | ####3      |  43% \n",
      "pytorch-1.5.1        | 90.5 MB   | ####3      |  43% \n",
      "pytorch-1.5.1        | 90.5 MB   | ####3      |  43% \n",
      "pytorch-1.5.1        | 90.5 MB   | ####3      |  43% \n",
      "pytorch-1.5.1        | 90.5 MB   | ####3      |  43% \n",
      "pytorch-1.5.1        | 90.5 MB   | ####3      |  43% \n",
      "pytorch-1.5.1        | 90.5 MB   | ####3      |  43% \n",
      "pytorch-1.5.1        | 90.5 MB   | ####3      |  43% \n",
      "pytorch-1.5.1        | 90.5 MB   | ####3      |  43% \n",
      "pytorch-1.5.1        | 90.5 MB   | ####3      |  43% \n",
      "pytorch-1.5.1        | 90.5 MB   | ####3      |  44% \n",
      "pytorch-1.5.1        | 90.5 MB   | ####3      |  44% \n",
      "pytorch-1.5.1        | 90.5 MB   | ####3      |  44% \n",
      "pytorch-1.5.1        | 90.5 MB   | ####3      |  44% \n",
      "pytorch-1.5.1        | 90.5 MB   | ####3      |  44% \n",
      "pytorch-1.5.1        | 90.5 MB   | ####3      |  44% \n",
      "pytorch-1.5.1        | 90.5 MB   | ####3      |  44% \n",
      "pytorch-1.5.1        | 90.5 MB   | ####3      |  44% \n",
      "pytorch-1.5.1        | 90.5 MB   | ####3      |  44% \n",
      "pytorch-1.5.1        | 90.5 MB   | ####3      |  44% \n",
      "pytorch-1.5.1        | 90.5 MB   | ####3      |  44% \n",
      "pytorch-1.5.1        | 90.5 MB   | ####4      |  44% \n",
      "pytorch-1.5.1        | 90.5 MB   | ####4      |  44% \n",
      "pytorch-1.5.1        | 90.5 MB   | ####4      |  44% \n",
      "pytorch-1.5.1        | 90.5 MB   | ####4      |  44% \n",
      "pytorch-1.5.1        | 90.5 MB   | ####4      |  44% \n",
      "pytorch-1.5.1        | 90.5 MB   | ####4      |  44% \n",
      "pytorch-1.5.1        | 90.5 MB   | ####4      |  44% \n",
      "pytorch-1.5.1        | 90.5 MB   | ####4      |  44% \n",
      "pytorch-1.5.1        | 90.5 MB   | ####4      |  44% \n",
      "pytorch-1.5.1        | 90.5 MB   | ####4      |  44% \n",
      "pytorch-1.5.1        | 90.5 MB   | ####4      |  44% \n",
      "pytorch-1.5.1        | 90.5 MB   | ####4      |  44% \n",
      "pytorch-1.5.1        | 90.5 MB   | ####4      |  44% \n",
      "pytorch-1.5.1        | 90.5 MB   | ####4      |  44% \n",
      "pytorch-1.5.1        | 90.5 MB   | ####4      |  44% \n",
      "pytorch-1.5.1        | 90.5 MB   | ####4      |  44% \n",
      "pytorch-1.5.1        | 90.5 MB   | ####4      |  45% \n",
      "pytorch-1.5.1        | 90.5 MB   | ####4      |  45% \n",
      "pytorch-1.5.1        | 90.5 MB   | ####4      |  45% \n",
      "pytorch-1.5.1        | 90.5 MB   | ####4      |  45% \n",
      "pytorch-1.5.1        | 90.5 MB   | ####4      |  45% \n",
      "pytorch-1.5.1        | 90.5 MB   | ####4      |  45% \n",
      "pytorch-1.5.1        | 90.5 MB   | ####4      |  45% \n",
      "pytorch-1.5.1        | 90.5 MB   | ####4      |  45% \n",
      "pytorch-1.5.1        | 90.5 MB   | ####4      |  45% \n",
      "pytorch-1.5.1        | 90.5 MB   | ####4      |  45% \n",
      "pytorch-1.5.1        | 90.5 MB   | ####4      |  45% \n",
      "pytorch-1.5.1        | 90.5 MB   | ####4      |  45% \n",
      "pytorch-1.5.1        | 90.5 MB   | ####4      |  45% \n",
      "pytorch-1.5.1        | 90.5 MB   | ####4      |  45% \n",
      "pytorch-1.5.1        | 90.5 MB   | ####4      |  45% \n",
      "pytorch-1.5.1        | 90.5 MB   | ####4      |  45% \n",
      "pytorch-1.5.1        | 90.5 MB   | ####4      |  45% \n",
      "pytorch-1.5.1        | 90.5 MB   | ####5      |  45% \n",
      "pytorch-1.5.1        | 90.5 MB   | ####5      |  45% \n",
      "pytorch-1.5.1        | 90.5 MB   | ####5      |  45% \n",
      "pytorch-1.5.1        | 90.5 MB   | ####5      |  45% \n",
      "pytorch-1.5.1        | 90.5 MB   | ####5      |  45% \n",
      "pytorch-1.5.1        | 90.5 MB   | ####5      |  45% \n",
      "pytorch-1.5.1        | 90.5 MB   | ####5      |  45% \n",
      "pytorch-1.5.1        | 90.5 MB   | ####5      |  45% \n",
      "pytorch-1.5.1        | 90.5 MB   | ####5      |  45% \n",
      "pytorch-1.5.1        | 90.5 MB   | ####5      |  45% \n",
      "pytorch-1.5.1        | 90.5 MB   | ####5      |  45% \n",
      "pytorch-1.5.1        | 90.5 MB   | ####5      |  45% \n",
      "pytorch-1.5.1        | 90.5 MB   | ####5      |  45% \n",
      "pytorch-1.5.1        | 90.5 MB   | ####5      |  45% \n",
      "pytorch-1.5.1        | 90.5 MB   | ####5      |  45% \n",
      "pytorch-1.5.1        | 90.5 MB   | ####5      |  45% \n",
      "pytorch-1.5.1        | 90.5 MB   | ####5      |  45% \n",
      "pytorch-1.5.1        | 90.5 MB   | ####5      |  45% \n",
      "pytorch-1.5.1        | 90.5 MB   | ####5      |  46% \n",
      "pytorch-1.5.1        | 90.5 MB   | ####5      |  46% \n",
      "pytorch-1.5.1        | 90.5 MB   | ####5      |  46% \n",
      "pytorch-1.5.1        | 90.5 MB   | ####5      |  46% \n",
      "pytorch-1.5.1        | 90.5 MB   | ####5      |  46% \n",
      "pytorch-1.5.1        | 90.5 MB   | ####5      |  46% \n",
      "pytorch-1.5.1        | 90.5 MB   | ####5      |  46% \n",
      "pytorch-1.5.1        | 90.5 MB   | ####5      |  46% \n",
      "pytorch-1.5.1        | 90.5 MB   | ####5      |  46% \n",
      "pytorch-1.5.1        | 90.5 MB   | ####5      |  46% \n",
      "pytorch-1.5.1        | 90.5 MB   | ####5      |  46% \n",
      "pytorch-1.5.1        | 90.5 MB   | ####5      |  46% \n",
      "pytorch-1.5.1        | 90.5 MB   | ####5      |  46% \n",
      "pytorch-1.5.1        | 90.5 MB   | ####5      |  46% \n",
      "pytorch-1.5.1        | 90.5 MB   | ####6      |  46% \n",
      "pytorch-1.5.1        | 90.5 MB   | ####6      |  46% \n",
      "pytorch-1.5.1        | 90.5 MB   | ####6      |  46% \n",
      "pytorch-1.5.1        | 90.5 MB   | ####6      |  46% \n",
      "pytorch-1.5.1        | 90.5 MB   | ####6      |  46% \n",
      "pytorch-1.5.1        | 90.5 MB   | ####6      |  46% \n",
      "pytorch-1.5.1        | 90.5 MB   | ####6      |  47% \n",
      "pytorch-1.5.1        | 90.5 MB   | ####6      |  47% \n",
      "pytorch-1.5.1        | 90.5 MB   | ####6      |  47% \n",
      "pytorch-1.5.1        | 90.5 MB   | ####6      |  47% \n",
      "pytorch-1.5.1        | 90.5 MB   | ####6      |  47% \n",
      "pytorch-1.5.1        | 90.5 MB   | ####6      |  47% \n",
      "pytorch-1.5.1        | 90.5 MB   | ####7      |  47% \n",
      "pytorch-1.5.1        | 90.5 MB   | ####7      |  47% \n",
      "pytorch-1.5.1        | 90.5 MB   | ####7      |  47% \n",
      "pytorch-1.5.1        | 90.5 MB   | ####7      |  47% \n",
      "pytorch-1.5.1        | 90.5 MB   | ####7      |  47% \n",
      "pytorch-1.5.1        | 90.5 MB   | ####7      |  47% \n",
      "pytorch-1.5.1        | 90.5 MB   | ####7      |  48% \n",
      "pytorch-1.5.1        | 90.5 MB   | ####7      |  48% \n",
      "pytorch-1.5.1        | 90.5 MB   | ####7      |  48% \n",
      "pytorch-1.5.1        | 90.5 MB   | ####7      |  48% \n",
      "pytorch-1.5.1        | 90.5 MB   | ####7      |  48% \n",
      "pytorch-1.5.1        | 90.5 MB   | ####7      |  48% \n",
      "pytorch-1.5.1        | 90.5 MB   | ####8      |  48% \n",
      "pytorch-1.5.1        | 90.5 MB   | ####8      |  48% \n",
      "pytorch-1.5.1        | 90.5 MB   | ####8      |  48% \n",
      "pytorch-1.5.1        | 90.5 MB   | ####8      |  48% \n",
      "pytorch-1.5.1        | 90.5 MB   | ####8      |  48% \n",
      "pytorch-1.5.1        | 90.5 MB   | ####8      |  49% \n",
      "pytorch-1.5.1        | 90.5 MB   | ####8      |  49% \n",
      "pytorch-1.5.1        | 90.5 MB   | ####8      |  49% \n",
      "pytorch-1.5.1        | 90.5 MB   | ####8      |  49% \n",
      "pytorch-1.5.1        | 90.5 MB   | ####8      |  49% \n",
      "pytorch-1.5.1        | 90.5 MB   | ####8      |  49% \n",
      "pytorch-1.5.1        | 90.5 MB   | ####9      |  49% \n",
      "pytorch-1.5.1        | 90.5 MB   | ####9      |  49% \n",
      "pytorch-1.5.1        | 90.5 MB   | ####9      |  49% \n",
      "pytorch-1.5.1        | 90.5 MB   | ####9      |  49% \n",
      "pytorch-1.5.1        | 90.5 MB   | ####9      |  49% \n",
      "pytorch-1.5.1        | 90.5 MB   | ####9      |  49% \n",
      "pytorch-1.5.1        | 90.5 MB   | ####9      |  49% \n",
      "pytorch-1.5.1        | 90.5 MB   | ####9      |  49% \n",
      "pytorch-1.5.1        | 90.5 MB   | ####9      |  50% \n",
      "pytorch-1.5.1        | 90.5 MB   | ####9      |  50% \n",
      "pytorch-1.5.1        | 90.5 MB   | ####9      |  50% \n",
      "pytorch-1.5.1        | 90.5 MB   | ####9      |  50% \n",
      "pytorch-1.5.1        | 90.5 MB   | ####9      |  50% \n",
      "pytorch-1.5.1        | 90.5 MB   | ####9      |  50% \n",
      "pytorch-1.5.1        | 90.5 MB   | ####9      |  50% \n",
      "pytorch-1.5.1        | 90.5 MB   | #####      |  50% \n",
      "pytorch-1.5.1        | 90.5 MB   | #####      |  50% \n",
      "pytorch-1.5.1        | 90.5 MB   | #####      |  50% \n",
      "pytorch-1.5.1        | 90.5 MB   | #####      |  50% \n",
      "pytorch-1.5.1        | 90.5 MB   | #####      |  50% \n",
      "pytorch-1.5.1        | 90.5 MB   | #####      |  50% \n",
      "pytorch-1.5.1        | 90.5 MB   | #####      |  50% \n",
      "pytorch-1.5.1        | 90.5 MB   | #####      |  51% \n",
      "pytorch-1.5.1        | 90.5 MB   | #####      |  51% \n",
      "pytorch-1.5.1        | 90.5 MB   | #####      |  51% \n",
      "pytorch-1.5.1        | 90.5 MB   | #####      |  51% \n",
      "pytorch-1.5.1        | 90.5 MB   | #####      |  51% \n",
      "pytorch-1.5.1        | 90.5 MB   | #####      |  51% \n",
      "pytorch-1.5.1        | 90.5 MB   | #####      |  51% \n",
      "pytorch-1.5.1        | 90.5 MB   | #####      |  51% \n",
      "pytorch-1.5.1        | 90.5 MB   | #####      |  51% \n",
      "pytorch-1.5.1        | 90.5 MB   | #####      |  51% \n",
      "pytorch-1.5.1        | 90.5 MB   | #####      |  51% \n",
      "pytorch-1.5.1        | 90.5 MB   | #####      |  51% \n",
      "pytorch-1.5.1        | 90.5 MB   | #####      |  51% \n",
      "pytorch-1.5.1        | 90.5 MB   | #####      |  51% \n",
      "pytorch-1.5.1        | 90.5 MB   | #####      |  51% \n",
      "pytorch-1.5.1        | 90.5 MB   | #####      |  51% \n",
      "pytorch-1.5.1        | 90.5 MB   | #####1     |  51% \n",
      "pytorch-1.5.1        | 90.5 MB   | #####1     |  51% \n",
      "pytorch-1.5.1        | 90.5 MB   | #####1     |  51% \n",
      "pytorch-1.5.1        | 90.5 MB   | #####1     |  51% \n",
      "pytorch-1.5.1        | 90.5 MB   | #####1     |  51% \n",
      "pytorch-1.5.1        | 90.5 MB   | #####1     |  51% \n",
      "pytorch-1.5.1        | 90.5 MB   | #####1     |  51% \n",
      "pytorch-1.5.1        | 90.5 MB   | #####1     |  51% \n",
      "pytorch-1.5.1        | 90.5 MB   | #####1     |  51% \n",
      "pytorch-1.5.1        | 90.5 MB   | #####1     |  51% \n",
      "pytorch-1.5.1        | 90.5 MB   | #####1     |  51% \n",
      "pytorch-1.5.1        | 90.5 MB   | #####1     |  51% \n",
      "pytorch-1.5.1        | 90.5 MB   | #####1     |  51% \n",
      "pytorch-1.5.1        | 90.5 MB   | #####1     |  51% \n",
      "pytorch-1.5.1        | 90.5 MB   | #####1     |  51% \n",
      "pytorch-1.5.1        | 90.5 MB   | #####1     |  51% \n",
      "pytorch-1.5.1        | 90.5 MB   | #####1     |  51% \n",
      "pytorch-1.5.1        | 90.5 MB   | #####1     |  51% \n",
      "pytorch-1.5.1        | 90.5 MB   | #####1     |  51% \n",
      "pytorch-1.5.1        | 90.5 MB   | #####1     |  51% \n",
      "pytorch-1.5.1        | 90.5 MB   | #####1     |  51% \n",
      "pytorch-1.5.1        | 90.5 MB   | #####1     |  51% \n",
      "pytorch-1.5.1        | 90.5 MB   | #####1     |  51% \n",
      "pytorch-1.5.1        | 90.5 MB   | #####1     |  51% \n",
      "pytorch-1.5.1        | 90.5 MB   | #####1     |  52% \n",
      "pytorch-1.5.1        | 90.5 MB   | #####1     |  52% \n",
      "pytorch-1.5.1        | 90.5 MB   | #####1     |  52% \n",
      "pytorch-1.5.1        | 90.5 MB   | #####1     |  52% \n",
      "pytorch-1.5.1        | 90.5 MB   | #####1     |  52% \n",
      "pytorch-1.5.1        | 90.5 MB   | #####1     |  52% \n",
      "pytorch-1.5.1        | 90.5 MB   | #####1     |  52% \n",
      "pytorch-1.5.1        | 90.5 MB   | #####1     |  52% \n",
      "pytorch-1.5.1        | 90.5 MB   | #####1     |  52% \n",
      "pytorch-1.5.1        | 90.5 MB   | #####1     |  52% \n",
      "pytorch-1.5.1        | 90.5 MB   | #####1     |  52% \n",
      "pytorch-1.5.1        | 90.5 MB   | #####1     |  52% \n",
      "pytorch-1.5.1        | 90.5 MB   | #####1     |  52% \n",
      "pytorch-1.5.1        | 90.5 MB   | #####1     |  52% \n",
      "pytorch-1.5.1        | 90.5 MB   | #####1     |  52% \n",
      "pytorch-1.5.1        | 90.5 MB   | #####1     |  52% \n",
      "pytorch-1.5.1        | 90.5 MB   | #####1     |  52% \n",
      "pytorch-1.5.1        | 90.5 MB   | #####1     |  52% \n",
      "pytorch-1.5.1        | 90.5 MB   | #####1     |  52% \n",
      "pytorch-1.5.1        | 90.5 MB   | #####1     |  52% \n",
      "pytorch-1.5.1        | 90.5 MB   | #####1     |  52% \n",
      "pytorch-1.5.1        | 90.5 MB   | #####2     |  52% \n",
      "pytorch-1.5.1        | 90.5 MB   | #####2     |  52% \n",
      "pytorch-1.5.1        | 90.5 MB   | #####2     |  52% \n",
      "pytorch-1.5.1        | 90.5 MB   | #####2     |  52% \n",
      "pytorch-1.5.1        | 90.5 MB   | #####2     |  52% \n",
      "pytorch-1.5.1        | 90.5 MB   | #####2     |  52% \n",
      "pytorch-1.5.1        | 90.5 MB   | #####2     |  52% \n",
      "pytorch-1.5.1        | 90.5 MB   | #####2     |  52% \n",
      "pytorch-1.5.1        | 90.5 MB   | #####2     |  52% \n",
      "pytorch-1.5.1        | 90.5 MB   | #####2     |  52% \n",
      "pytorch-1.5.1        | 90.5 MB   | #####2     |  52% \n",
      "pytorch-1.5.1        | 90.5 MB   | #####2     |  52% \n",
      "pytorch-1.5.1        | 90.5 MB   | #####2     |  52% \n",
      "pytorch-1.5.1        | 90.5 MB   | #####2     |  52% \n",
      "pytorch-1.5.1        | 90.5 MB   | #####2     |  52% \n",
      "pytorch-1.5.1        | 90.5 MB   | #####2     |  52% \n",
      "pytorch-1.5.1        | 90.5 MB   | #####2     |  52% \n",
      "pytorch-1.5.1        | 90.5 MB   | #####2     |  52% \n",
      "pytorch-1.5.1        | 90.5 MB   | #####2     |  52% \n",
      "pytorch-1.5.1        | 90.5 MB   | #####2     |  52% \n",
      "pytorch-1.5.1        | 90.5 MB   | #####2     |  52% \n",
      "pytorch-1.5.1        | 90.5 MB   | #####2     |  52% \n",
      "pytorch-1.5.1        | 90.5 MB   | #####2     |  53% \n",
      "pytorch-1.5.1        | 90.5 MB   | #####2     |  53% \n",
      "pytorch-1.5.1        | 90.5 MB   | #####2     |  53% \n",
      "pytorch-1.5.1        | 90.5 MB   | #####2     |  53% \n",
      "pytorch-1.5.1        | 90.5 MB   | #####2     |  53% \n",
      "pytorch-1.5.1        | 90.5 MB   | #####2     |  53% \n",
      "pytorch-1.5.1        | 90.5 MB   | #####2     |  53% \n",
      "pytorch-1.5.1        | 90.5 MB   | #####2     |  53% \n",
      "pytorch-1.5.1        | 90.5 MB   | #####2     |  53% \n",
      "pytorch-1.5.1        | 90.5 MB   | #####2     |  53% \n",
      "pytorch-1.5.1        | 90.5 MB   | #####2     |  53% \n",
      "pytorch-1.5.1        | 90.5 MB   | #####2     |  53% \n",
      "pytorch-1.5.1        | 90.5 MB   | #####2     |  53% \n",
      "pytorch-1.5.1        | 90.5 MB   | #####2     |  53% \n",
      "pytorch-1.5.1        | 90.5 MB   | #####2     |  53% \n",
      "pytorch-1.5.1        | 90.5 MB   | #####2     |  53% \n",
      "pytorch-1.5.1        | 90.5 MB   | #####2     |  53% \n",
      "pytorch-1.5.1        | 90.5 MB   | #####2     |  53% \n",
      "pytorch-1.5.1        | 90.5 MB   | #####2     |  53% \n",
      "pytorch-1.5.1        | 90.5 MB   | #####3     |  53% \n",
      "pytorch-1.5.1        | 90.5 MB   | #####3     |  53% \n",
      "pytorch-1.5.1        | 90.5 MB   | #####3     |  53% \n",
      "pytorch-1.5.1        | 90.5 MB   | #####3     |  53% \n",
      "pytorch-1.5.1        | 90.5 MB   | #####3     |  53% \n",
      "pytorch-1.5.1        | 90.5 MB   | #####3     |  53% \n",
      "pytorch-1.5.1        | 90.5 MB   | #####3     |  53% \n",
      "pytorch-1.5.1        | 90.5 MB   | #####3     |  53% \n",
      "pytorch-1.5.1        | 90.5 MB   | #####3     |  53% \n",
      "pytorch-1.5.1        | 90.5 MB   | #####3     |  53% \n",
      "pytorch-1.5.1        | 90.5 MB   | #####3     |  53% \n",
      "pytorch-1.5.1        | 90.5 MB   | #####3     |  53% \n",
      "pytorch-1.5.1        | 90.5 MB   | #####3     |  53% \n",
      "pytorch-1.5.1        | 90.5 MB   | #####3     |  53% \n",
      "pytorch-1.5.1        | 90.5 MB   | #####3     |  53% \n",
      "pytorch-1.5.1        | 90.5 MB   | #####3     |  53% \n",
      "pytorch-1.5.1        | 90.5 MB   | #####3     |  53% \n",
      "pytorch-1.5.1        | 90.5 MB   | #####3     |  53% \n",
      "pytorch-1.5.1        | 90.5 MB   | #####3     |  54% \n",
      "pytorch-1.5.1        | 90.5 MB   | #####3     |  54% \n",
      "pytorch-1.5.1        | 90.5 MB   | #####3     |  54% \n",
      "pytorch-1.5.1        | 90.5 MB   | #####3     |  54% \n",
      "pytorch-1.5.1        | 90.5 MB   | #####3     |  54% \n",
      "pytorch-1.5.1        | 90.5 MB   | #####3     |  54% \n",
      "pytorch-1.5.1        | 90.5 MB   | #####3     |  54% \n",
      "pytorch-1.5.1        | 90.5 MB   | #####3     |  54% \n",
      "pytorch-1.5.1        | 90.5 MB   | #####3     |  54% \n",
      "pytorch-1.5.1        | 90.5 MB   | #####3     |  54% \n",
      "pytorch-1.5.1        | 90.5 MB   | #####3     |  54% \n",
      "pytorch-1.5.1        | 90.5 MB   | #####3     |  54% \n",
      "pytorch-1.5.1        | 90.5 MB   | #####3     |  54% \n",
      "pytorch-1.5.1        | 90.5 MB   | #####3     |  54% \n",
      "pytorch-1.5.1        | 90.5 MB   | #####3     |  54% \n",
      "pytorch-1.5.1        | 90.5 MB   | #####3     |  54% \n",
      "pytorch-1.5.1        | 90.5 MB   | #####3     |  54% \n",
      "pytorch-1.5.1        | 90.5 MB   | #####4     |  54% \n",
      "pytorch-1.5.1        | 90.5 MB   | #####4     |  54% \n",
      "pytorch-1.5.1        | 90.5 MB   | #####4     |  54% \n",
      "pytorch-1.5.1        | 90.5 MB   | #####4     |  54% \n",
      "pytorch-1.5.1        | 90.5 MB   | #####4     |  54% \n",
      "pytorch-1.5.1        | 90.5 MB   | #####4     |  54% \n",
      "pytorch-1.5.1        | 90.5 MB   | #####4     |  54% \n",
      "pytorch-1.5.1        | 90.5 MB   | #####4     |  54% \n",
      "pytorch-1.5.1        | 90.5 MB   | #####4     |  54% \n",
      "pytorch-1.5.1        | 90.5 MB   | #####4     |  54% \n",
      "pytorch-1.5.1        | 90.5 MB   | #####4     |  54% \n",
      "pytorch-1.5.1        | 90.5 MB   | #####4     |  54% \n",
      "pytorch-1.5.1        | 90.5 MB   | #####4     |  54% \n",
      "pytorch-1.5.1        | 90.5 MB   | #####4     |  54% \n",
      "pytorch-1.5.1        | 90.5 MB   | #####4     |  54% \n",
      "pytorch-1.5.1        | 90.5 MB   | #####4     |  54% \n",
      "pytorch-1.5.1        | 90.5 MB   | #####4     |  55% \n",
      "pytorch-1.5.1        | 90.5 MB   | #####4     |  55% \n",
      "pytorch-1.5.1        | 90.5 MB   | #####4     |  55% \n",
      "pytorch-1.5.1        | 90.5 MB   | #####4     |  55% \n",
      "pytorch-1.5.1        | 90.5 MB   | #####4     |  55% \n",
      "pytorch-1.5.1        | 90.5 MB   | #####4     |  55% \n",
      "pytorch-1.5.1        | 90.5 MB   | #####4     |  55% \n",
      "pytorch-1.5.1        | 90.5 MB   | #####4     |  55% \n",
      "pytorch-1.5.1        | 90.5 MB   | #####4     |  55% \n",
      "pytorch-1.5.1        | 90.5 MB   | #####4     |  55% \n",
      "pytorch-1.5.1        | 90.5 MB   | #####4     |  55% \n",
      "pytorch-1.5.1        | 90.5 MB   | #####5     |  55% \n",
      "pytorch-1.5.1        | 90.5 MB   | #####5     |  55% \n",
      "pytorch-1.5.1        | 90.5 MB   | #####5     |  55% \n",
      "pytorch-1.5.1        | 90.5 MB   | #####5     |  55% \n",
      "pytorch-1.5.1        | 90.5 MB   | #####5     |  55% \n",
      "pytorch-1.5.1        | 90.5 MB   | #####5     |  55% \n",
      "pytorch-1.5.1        | 90.5 MB   | #####5     |  55% \n",
      "pytorch-1.5.1        | 90.5 MB   | #####5     |  56% \n",
      "pytorch-1.5.1        | 90.5 MB   | #####5     |  56% \n",
      "pytorch-1.5.1        | 90.5 MB   | #####5     |  56% \n",
      "pytorch-1.5.1        | 90.5 MB   | #####5     |  56% \n",
      "pytorch-1.5.1        | 90.5 MB   | #####6     |  56% \n",
      "pytorch-1.5.1        | 90.5 MB   | #####6     |  56% \n",
      "pytorch-1.5.1        | 90.5 MB   | #####6     |  56% \n",
      "pytorch-1.5.1        | 90.5 MB   | #####6     |  56% \n",
      "pytorch-1.5.1        | 90.5 MB   | #####6     |  56% \n",
      "pytorch-1.5.1        | 90.5 MB   | #####6     |  57% \n",
      "pytorch-1.5.1        | 90.5 MB   | #####6     |  57% \n",
      "pytorch-1.5.1        | 90.5 MB   | #####6     |  57% \n",
      "pytorch-1.5.1        | 90.5 MB   | #####6     |  57% \n",
      "pytorch-1.5.1        | 90.5 MB   | #####6     |  57% \n",
      "pytorch-1.5.1        | 90.5 MB   | #####6     |  57% \n",
      "pytorch-1.5.1        | 90.5 MB   | #####7     |  57% \n",
      "pytorch-1.5.1        | 90.5 MB   | #####7     |  57% \n",
      "pytorch-1.5.1        | 90.5 MB   | #####7     |  57% \n",
      "pytorch-1.5.1        | 90.5 MB   | #####7     |  57% \n",
      "pytorch-1.5.1        | 90.5 MB   | #####7     |  57% \n",
      "pytorch-1.5.1        | 90.5 MB   | #####7     |  58% \n",
      "pytorch-1.5.1        | 90.5 MB   | #####7     |  58% \n",
      "pytorch-1.5.1        | 90.5 MB   | #####7     |  58% \n",
      "pytorch-1.5.1        | 90.5 MB   | #####7     |  58% \n",
      "pytorch-1.5.1        | 90.5 MB   | #####7     |  58% \n",
      "pytorch-1.5.1        | 90.5 MB   | #####7     |  58% \n",
      "pytorch-1.5.1        | 90.5 MB   | #####8     |  58% \n",
      "pytorch-1.5.1        | 90.5 MB   | #####8     |  58% \n",
      "pytorch-1.5.1        | 90.5 MB   | #####8     |  58% \n",
      "pytorch-1.5.1        | 90.5 MB   | #####8     |  58% \n",
      "pytorch-1.5.1        | 90.5 MB   | #####8     |  58% \n",
      "pytorch-1.5.1        | 90.5 MB   | #####8     |  58% \n",
      "pytorch-1.5.1        | 90.5 MB   | #####8     |  58% \n",
      "pytorch-1.5.1        | 90.5 MB   | #####8     |  59% \n",
      "pytorch-1.5.1        | 90.5 MB   | #####8     |  59% \n",
      "pytorch-1.5.1        | 90.5 MB   | #####8     |  59% \n",
      "pytorch-1.5.1        | 90.5 MB   | #####8     |  59% \n",
      "pytorch-1.5.1        | 90.5 MB   | #####8     |  59% \n",
      "pytorch-1.5.1        | 90.5 MB   | #####8     |  59% \n",
      "pytorch-1.5.1        | 90.5 MB   | #####9     |  59% \n",
      "pytorch-1.5.1        | 90.5 MB   | #####9     |  59% \n",
      "pytorch-1.5.1        | 90.5 MB   | #####9     |  59% \n",
      "pytorch-1.5.1        | 90.5 MB   | #####9     |  59% \n",
      "pytorch-1.5.1        | 90.5 MB   | #####9     |  60% \n",
      "pytorch-1.5.1        | 90.5 MB   | #####9     |  60% \n",
      "pytorch-1.5.1        | 90.5 MB   | #####9     |  60% \n",
      "pytorch-1.5.1        | 90.5 MB   | #####9     |  60% \n",
      "pytorch-1.5.1        | 90.5 MB   | ######     |  60% \n",
      "pytorch-1.5.1        | 90.5 MB   | ######     |  60% \n",
      "pytorch-1.5.1        | 90.5 MB   | ######     |  60% \n",
      "pytorch-1.5.1        | 90.5 MB   | ######     |  60% \n",
      "pytorch-1.5.1        | 90.5 MB   | ######     |  61% \n",
      "pytorch-1.5.1        | 90.5 MB   | ######     |  61% \n",
      "pytorch-1.5.1        | 90.5 MB   | ######     |  61% \n",
      "pytorch-1.5.1        | 90.5 MB   | ######     |  61% \n",
      "pytorch-1.5.1        | 90.5 MB   | ######     |  61% \n",
      "pytorch-1.5.1        | 90.5 MB   | ######1    |  61% \n",
      "pytorch-1.5.1        | 90.5 MB   | ######1    |  61% \n",
      "pytorch-1.5.1        | 90.5 MB   | ######1    |  61% \n",
      "pytorch-1.5.1        | 90.5 MB   | ######1    |  61% \n",
      "pytorch-1.5.1        | 90.5 MB   | ######1    |  61% \n",
      "pytorch-1.5.1        | 90.5 MB   | ######1    |  61% \n",
      "pytorch-1.5.1        | 90.5 MB   | ######1    |  62% \n",
      "pytorch-1.5.1        | 90.5 MB   | ######1    |  62% \n",
      "pytorch-1.5.1        | 90.5 MB   | ######1    |  62% \n",
      "pytorch-1.5.1        | 90.5 MB   | ######1    |  62% \n",
      "pytorch-1.5.1        | 90.5 MB   | ######2    |  62% \n",
      "pytorch-1.5.1        | 90.5 MB   | ######2    |  62% \n",
      "pytorch-1.5.1        | 90.5 MB   | ######2    |  62% \n",
      "pytorch-1.5.1        | 90.5 MB   | ######2    |  62% \n",
      "pytorch-1.5.1        | 90.5 MB   | ######2    |  63% \n",
      "pytorch-1.5.1        | 90.5 MB   | ######2    |  63% \n",
      "pytorch-1.5.1        | 90.5 MB   | ######2    |  63% \n",
      "pytorch-1.5.1        | 90.5 MB   | ######2    |  63% \n",
      "pytorch-1.5.1        | 90.5 MB   | ######2    |  63% \n",
      "pytorch-1.5.1        | 90.5 MB   | ######3    |  63% \n",
      "pytorch-1.5.1        | 90.5 MB   | ######3    |  63% \n",
      "pytorch-1.5.1        | 90.5 MB   | ######3    |  63% \n",
      "pytorch-1.5.1        | 90.5 MB   | ######3    |  64% \n",
      "pytorch-1.5.1        | 90.5 MB   | ######3    |  64% \n",
      "pytorch-1.5.1        | 90.5 MB   | ######3    |  64% \n",
      "pytorch-1.5.1        | 90.5 MB   | ######3    |  64% \n",
      "pytorch-1.5.1        | 90.5 MB   | ######4    |  64% \n",
      "pytorch-1.5.1        | 90.5 MB   | ######4    |  64% \n",
      "pytorch-1.5.1        | 90.5 MB   | ######4    |  64% \n",
      "pytorch-1.5.1        | 90.5 MB   | ######4    |  64% \n",
      "pytorch-1.5.1        | 90.5 MB   | ######4    |  65% \n",
      "pytorch-1.5.1        | 90.5 MB   | ######4    |  65% \n",
      "pytorch-1.5.1        | 90.5 MB   | ######4    |  65% \n",
      "pytorch-1.5.1        | 90.5 MB   | ######4    |  65% \n",
      "pytorch-1.5.1        | 90.5 MB   | ######4    |  65% \n",
      "pytorch-1.5.1        | 90.5 MB   | ######4    |  65% \n",
      "pytorch-1.5.1        | 90.5 MB   | ######4    |  65% \n",
      "pytorch-1.5.1        | 90.5 MB   | ######4    |  65% \n",
      "pytorch-1.5.1        | 90.5 MB   | ######5    |  65% \n",
      "pytorch-1.5.1        | 90.5 MB   | ######5    |  65% \n",
      "pytorch-1.5.1        | 90.5 MB   | ######5    |  65% \n",
      "pytorch-1.5.1        | 90.5 MB   | ######5    |  65% \n",
      "pytorch-1.5.1        | 90.5 MB   | ######5    |  65% \n",
      "pytorch-1.5.1        | 90.5 MB   | ######5    |  65% \n",
      "pytorch-1.5.1        | 90.5 MB   | ######5    |  65% \n",
      "pytorch-1.5.1        | 90.5 MB   | ######5    |  66% \n",
      "pytorch-1.5.1        | 90.5 MB   | ######5    |  66% \n",
      "pytorch-1.5.1        | 90.5 MB   | ######5    |  66% \n",
      "pytorch-1.5.1        | 90.5 MB   | ######5    |  66% \n",
      "pytorch-1.5.1        | 90.5 MB   | ######5    |  66% \n",
      "pytorch-1.5.1        | 90.5 MB   | ######5    |  66% \n",
      "pytorch-1.5.1        | 90.5 MB   | ######5    |  66% \n",
      "pytorch-1.5.1        | 90.5 MB   | ######5    |  66% \n",
      "pytorch-1.5.1        | 90.5 MB   | ######6    |  66% \n",
      "pytorch-1.5.1        | 90.5 MB   | ######6    |  66% \n",
      "pytorch-1.5.1        | 90.5 MB   | ######6    |  66% \n",
      "pytorch-1.5.1        | 90.5 MB   | ######6    |  66% \n",
      "pytorch-1.5.1        | 90.5 MB   | ######6    |  66% \n",
      "pytorch-1.5.1        | 90.5 MB   | ######6    |  66% \n",
      "pytorch-1.5.1        | 90.5 MB   | ######6    |  66% \n",
      "pytorch-1.5.1        | 90.5 MB   | ######6    |  67% \n",
      "pytorch-1.5.1        | 90.5 MB   | ######6    |  67% \n",
      "pytorch-1.5.1        | 90.5 MB   | ######6    |  67% \n",
      "pytorch-1.5.1        | 90.5 MB   | ######6    |  67% \n",
      "pytorch-1.5.1        | 90.5 MB   | ######6    |  67% \n",
      "pytorch-1.5.1        | 90.5 MB   | ######6    |  67% \n",
      "pytorch-1.5.1        | 90.5 MB   | ######6    |  67% \n",
      "pytorch-1.5.1        | 90.5 MB   | ######6    |  67% \n",
      "pytorch-1.5.1        | 90.5 MB   | ######6    |  67% \n",
      "pytorch-1.5.1        | 90.5 MB   | ######7    |  67% \n",
      "pytorch-1.5.1        | 90.5 MB   | ######7    |  67% \n",
      "pytorch-1.5.1        | 90.5 MB   | ######7    |  67% \n",
      "pytorch-1.5.1        | 90.5 MB   | ######7    |  67% \n",
      "pytorch-1.5.1        | 90.5 MB   | ######7    |  67% \n",
      "pytorch-1.5.1        | 90.5 MB   | ######7    |  67% \n",
      "pytorch-1.5.1        | 90.5 MB   | ######7    |  67% \n",
      "pytorch-1.5.1        | 90.5 MB   | ######7    |  67% \n",
      "pytorch-1.5.1        | 90.5 MB   | ######7    |  67% \n",
      "pytorch-1.5.1        | 90.5 MB   | ######7    |  67% \n",
      "pytorch-1.5.1        | 90.5 MB   | ######7    |  67% \n",
      "pytorch-1.5.1        | 90.5 MB   | ######7    |  67% \n",
      "pytorch-1.5.1        | 90.5 MB   | ######7    |  67% \n",
      "pytorch-1.5.1        | 90.5 MB   | ######7    |  68% \n",
      "pytorch-1.5.1        | 90.5 MB   | ######7    |  68% \n",
      "pytorch-1.5.1        | 90.5 MB   | ######7    |  68% \n",
      "pytorch-1.5.1        | 90.5 MB   | ######7    |  68% \n",
      "pytorch-1.5.1        | 90.5 MB   | ######7    |  68% \n",
      "pytorch-1.5.1        | 90.5 MB   | ######7    |  68% \n",
      "pytorch-1.5.1        | 90.5 MB   | ######7    |  68% \n",
      "pytorch-1.5.1        | 90.5 MB   | ######7    |  68% \n",
      "pytorch-1.5.1        | 90.5 MB   | ######7    |  68% \n",
      "pytorch-1.5.1        | 90.5 MB   | ######7    |  68% \n",
      "pytorch-1.5.1        | 90.5 MB   | ######7    |  68% \n",
      "pytorch-1.5.1        | 90.5 MB   | ######7    |  68% \n",
      "pytorch-1.5.1        | 90.5 MB   | ######8    |  68% \n",
      "pytorch-1.5.1        | 90.5 MB   | ######8    |  68% \n",
      "pytorch-1.5.1        | 90.5 MB   | ######8    |  68% \n",
      "pytorch-1.5.1        | 90.5 MB   | ######8    |  68% \n",
      "pytorch-1.5.1        | 90.5 MB   | ######8    |  68% \n",
      "pytorch-1.5.1        | 90.5 MB   | ######8    |  68% \n",
      "pytorch-1.5.1        | 90.5 MB   | ######8    |  68% \n",
      "pytorch-1.5.1        | 90.5 MB   | ######8    |  68% \n",
      "pytorch-1.5.1        | 90.5 MB   | ######8    |  68% \n",
      "pytorch-1.5.1        | 90.5 MB   | ######8    |  68% \n",
      "pytorch-1.5.1        | 90.5 MB   | ######8    |  69% \n",
      "pytorch-1.5.1        | 90.5 MB   | ######8    |  69% \n",
      "pytorch-1.5.1        | 90.5 MB   | ######8    |  69% \n",
      "pytorch-1.5.1        | 90.5 MB   | ######8    |  69% \n",
      "pytorch-1.5.1        | 90.5 MB   | ######8    |  69% \n",
      "pytorch-1.5.1        | 90.5 MB   | ######8    |  69% \n",
      "pytorch-1.5.1        | 90.5 MB   | ######8    |  69% \n",
      "pytorch-1.5.1        | 90.5 MB   | ######8    |  69% \n",
      "pytorch-1.5.1        | 90.5 MB   | ######8    |  69% \n",
      "pytorch-1.5.1        | 90.5 MB   | ######8    |  69% \n",
      "pytorch-1.5.1        | 90.5 MB   | ######8    |  69% \n",
      "pytorch-1.5.1        | 90.5 MB   | ######8    |  69% \n",
      "pytorch-1.5.1        | 90.5 MB   | ######9    |  69% \n",
      "pytorch-1.5.1        | 90.5 MB   | ######9    |  69% \n",
      "pytorch-1.5.1        | 90.5 MB   | ######9    |  69% \n",
      "pytorch-1.5.1        | 90.5 MB   | ######9    |  69% \n",
      "pytorch-1.5.1        | 90.5 MB   | ######9    |  69% \n",
      "pytorch-1.5.1        | 90.5 MB   | ######9    |  69% \n",
      "pytorch-1.5.1        | 90.5 MB   | ######9    |  69% \n",
      "pytorch-1.5.1        | 90.5 MB   | ######9    |  69% \n",
      "pytorch-1.5.1        | 90.5 MB   | ######9    |  69% \n",
      "pytorch-1.5.1        | 90.5 MB   | ######9    |  69% \n",
      "pytorch-1.5.1        | 90.5 MB   | ######9    |  70% \n",
      "pytorch-1.5.1        | 90.5 MB   | ######9    |  70% \n",
      "pytorch-1.5.1        | 90.5 MB   | ######9    |  70% \n",
      "pytorch-1.5.1        | 90.5 MB   | ######9    |  70% \n",
      "pytorch-1.5.1        | 90.5 MB   | ######9    |  70% \n",
      "pytorch-1.5.1        | 90.5 MB   | ######9    |  70% \n",
      "pytorch-1.5.1        | 90.5 MB   | ######9    |  70% \n",
      "pytorch-1.5.1        | 90.5 MB   | ######9    |  70% \n",
      "pytorch-1.5.1        | 90.5 MB   | ######9    |  70% \n",
      "pytorch-1.5.1        | 90.5 MB   | ######9    |  70% \n",
      "pytorch-1.5.1        | 90.5 MB   | ######9    |  70% \n",
      "pytorch-1.5.1        | 90.5 MB   | #######    |  70% \n",
      "pytorch-1.5.1        | 90.5 MB   | #######    |  70% \n",
      "pytorch-1.5.1        | 90.5 MB   | #######    |  70% \n",
      "pytorch-1.5.1        | 90.5 MB   | #######    |  70% \n",
      "pytorch-1.5.1        | 90.5 MB   | #######    |  70% \n",
      "pytorch-1.5.1        | 90.5 MB   | #######    |  70% \n",
      "pytorch-1.5.1        | 90.5 MB   | #######    |  70% \n",
      "pytorch-1.5.1        | 90.5 MB   | #######    |  70% \n",
      "pytorch-1.5.1        | 90.5 MB   | #######    |  70% \n",
      "pytorch-1.5.1        | 90.5 MB   | #######    |  71% \n",
      "pytorch-1.5.1        | 90.5 MB   | #######    |  71% \n",
      "pytorch-1.5.1        | 90.5 MB   | #######    |  71% \n",
      "pytorch-1.5.1        | 90.5 MB   | #######    |  71% \n",
      "pytorch-1.5.1        | 90.5 MB   | #######    |  71% \n",
      "pytorch-1.5.1        | 90.5 MB   | #######    |  71% \n",
      "pytorch-1.5.1        | 90.5 MB   | #######    |  71% \n",
      "pytorch-1.5.1        | 90.5 MB   | #######    |  71% \n",
      "pytorch-1.5.1        | 90.5 MB   | #######    |  71% \n",
      "pytorch-1.5.1        | 90.5 MB   | #######    |  71% \n",
      "pytorch-1.5.1        | 90.5 MB   | #######1   |  71% \n",
      "pytorch-1.5.1        | 90.5 MB   | #######1   |  71% \n",
      "pytorch-1.5.1        | 90.5 MB   | #######1   |  71% \n",
      "pytorch-1.5.1        | 90.5 MB   | #######1   |  71% \n",
      "pytorch-1.5.1        | 90.5 MB   | #######1   |  71% \n",
      "pytorch-1.5.1        | 90.5 MB   | #######1   |  71% \n",
      "pytorch-1.5.1        | 90.5 MB   | #######1   |  72% \n",
      "pytorch-1.5.1        | 90.5 MB   | #######1   |  72% \n",
      "pytorch-1.5.1        | 90.5 MB   | #######1   |  72% \n",
      "pytorch-1.5.1        | 90.5 MB   | #######2   |  72% \n",
      "pytorch-1.5.1        | 90.5 MB   | #######2   |  72% \n",
      "pytorch-1.5.1        | 90.5 MB   | #######2   |  72% \n",
      "pytorch-1.5.1        | 90.5 MB   | #######2   |  72% \n",
      "pytorch-1.5.1        | 90.5 MB   | #######2   |  72% \n",
      "pytorch-1.5.1        | 90.5 MB   | #######2   |  73% \n",
      "pytorch-1.5.1        | 90.5 MB   | #######2   |  73% \n",
      "pytorch-1.5.1        | 90.5 MB   | #######2   |  73% \n",
      "pytorch-1.5.1        | 90.5 MB   | #######2   |  73% \n",
      "pytorch-1.5.1        | 90.5 MB   | #######3   |  73% \n",
      "pytorch-1.5.1        | 90.5 MB   | #######3   |  73% \n",
      "pytorch-1.5.1        | 90.5 MB   | #######3   |  73% \n",
      "pytorch-1.5.1        | 90.5 MB   | #######3   |  73% \n",
      "pytorch-1.5.1        | 90.5 MB   | #######3   |  73% \n",
      "pytorch-1.5.1        | 90.5 MB   | #######3   |  73% \n",
      "pytorch-1.5.1        | 90.5 MB   | #######3   |  74% \n",
      "pytorch-1.5.1        | 90.5 MB   | #######3   |  74% \n",
      "pytorch-1.5.1        | 90.5 MB   | #######3   |  74% \n",
      "pytorch-1.5.1        | 90.5 MB   | #######3   |  74% \n",
      "pytorch-1.5.1        | 90.5 MB   | #######4   |  74% \n",
      "pytorch-1.5.1        | 90.5 MB   | #######4   |  74% \n",
      "pytorch-1.5.1        | 90.5 MB   | #######4   |  74% \n",
      "pytorch-1.5.1        | 90.5 MB   | #######4   |  74% \n",
      "pytorch-1.5.1        | 90.5 MB   | #######4   |  74% \n",
      "pytorch-1.5.1        | 90.5 MB   | #######4   |  75% \n",
      "pytorch-1.5.1        | 90.5 MB   | #######4   |  75% \n",
      "pytorch-1.5.1        | 90.5 MB   | #######4   |  75% \n",
      "pytorch-1.5.1        | 90.5 MB   | #######4   |  75% \n",
      "pytorch-1.5.1        | 90.5 MB   | #######4   |  75% \n",
      "pytorch-1.5.1        | 90.5 MB   | #######4   |  75% \n",
      "pytorch-1.5.1        | 90.5 MB   | #######5   |  75% \n",
      "pytorch-1.5.1        | 90.5 MB   | #######5   |  75% \n",
      "pytorch-1.5.1        | 90.5 MB   | #######5   |  75% \n",
      "pytorch-1.5.1        | 90.5 MB   | #######5   |  75% \n",
      "pytorch-1.5.1        | 90.5 MB   | #######5   |  75% \n",
      "pytorch-1.5.1        | 90.5 MB   | #######5   |  76% \n",
      "pytorch-1.5.1        | 90.5 MB   | #######5   |  76% \n",
      "pytorch-1.5.1        | 90.5 MB   | #######5   |  76% \n",
      "pytorch-1.5.1        | 90.5 MB   | #######5   |  76% \n",
      "pytorch-1.5.1        | 90.5 MB   | #######5   |  76% \n",
      "pytorch-1.5.1        | 90.5 MB   | #######5   |  76% \n",
      "pytorch-1.5.1        | 90.5 MB   | #######5   |  76% \n",
      "pytorch-1.5.1        | 90.5 MB   | #######6   |  76% \n",
      "pytorch-1.5.1        | 90.5 MB   | #######6   |  76% \n",
      "pytorch-1.5.1        | 90.5 MB   | #######6   |  76% \n",
      "pytorch-1.5.1        | 90.5 MB   | #######6   |  76% \n",
      "pytorch-1.5.1        | 90.5 MB   | #######6   |  76% \n",
      "pytorch-1.5.1        | 90.5 MB   | #######6   |  76% \n",
      "pytorch-1.5.1        | 90.5 MB   | #######6   |  77% \n",
      "pytorch-1.5.1        | 90.5 MB   | #######6   |  77% \n",
      "pytorch-1.5.1        | 90.5 MB   | #######6   |  77% \n",
      "pytorch-1.5.1        | 90.5 MB   | #######6   |  77% \n",
      "pytorch-1.5.1        | 90.5 MB   | #######6   |  77% \n",
      "pytorch-1.5.1        | 90.5 MB   | #######6   |  77% \n",
      "pytorch-1.5.1        | 90.5 MB   | #######6   |  77% \n",
      "pytorch-1.5.1        | 90.5 MB   | #######6   |  77% \n",
      "pytorch-1.5.1        | 90.5 MB   | #######6   |  77% \n",
      "pytorch-1.5.1        | 90.5 MB   | #######7   |  77% \n",
      "pytorch-1.5.1        | 90.5 MB   | #######7   |  77% \n",
      "pytorch-1.5.1        | 90.5 MB   | #######7   |  77% \n",
      "pytorch-1.5.1        | 90.5 MB   | #######7   |  77% \n",
      "pytorch-1.5.1        | 90.5 MB   | #######7   |  77% \n",
      "pytorch-1.5.1        | 90.5 MB   | #######7   |  77% \n",
      "pytorch-1.5.1        | 90.5 MB   | #######7   |  77% \n",
      "pytorch-1.5.1        | 90.5 MB   | #######7   |  77% \n",
      "pytorch-1.5.1        | 90.5 MB   | #######7   |  77% \n",
      "pytorch-1.5.1        | 90.5 MB   | #######7   |  77% \n",
      "pytorch-1.5.1        | 90.5 MB   | #######7   |  77% \n",
      "pytorch-1.5.1        | 90.5 MB   | #######7   |  77% \n",
      "pytorch-1.5.1        | 90.5 MB   | #######7   |  78% \n",
      "pytorch-1.5.1        | 90.5 MB   | #######7   |  78% \n",
      "pytorch-1.5.1        | 90.5 MB   | #######7   |  78% \n",
      "pytorch-1.5.1        | 90.5 MB   | #######7   |  78% \n",
      "pytorch-1.5.1        | 90.5 MB   | #######7   |  78% \n",
      "pytorch-1.5.1        | 90.5 MB   | #######7   |  78% \n",
      "pytorch-1.5.1        | 90.5 MB   | #######7   |  78% \n",
      "pytorch-1.5.1        | 90.5 MB   | #######7   |  78% \n",
      "pytorch-1.5.1        | 90.5 MB   | #######7   |  78% \n",
      "pytorch-1.5.1        | 90.5 MB   | #######7   |  78% \n",
      "pytorch-1.5.1        | 90.5 MB   | #######7   |  78% \n",
      "pytorch-1.5.1        | 90.5 MB   | #######8   |  78% \n",
      "pytorch-1.5.1        | 90.5 MB   | #######8   |  78% \n",
      "pytorch-1.5.1        | 90.5 MB   | #######8   |  78% \n",
      "pytorch-1.5.1        | 90.5 MB   | #######8   |  78% \n",
      "pytorch-1.5.1        | 90.5 MB   | #######8   |  78% \n",
      "pytorch-1.5.1        | 90.5 MB   | #######8   |  78% \n",
      "pytorch-1.5.1        | 90.5 MB   | #######8   |  78% \n",
      "pytorch-1.5.1        | 90.5 MB   | #######8   |  78% \n",
      "pytorch-1.5.1        | 90.5 MB   | #######8   |  78% \n",
      "pytorch-1.5.1        | 90.5 MB   | #######8   |  78% \n",
      "pytorch-1.5.1        | 90.5 MB   | #######8   |  79% \n",
      "pytorch-1.5.1        | 90.5 MB   | #######8   |  79% \n",
      "pytorch-1.5.1        | 90.5 MB   | #######8   |  79% \n",
      "pytorch-1.5.1        | 90.5 MB   | #######8   |  79% \n",
      "pytorch-1.5.1        | 90.5 MB   | #######8   |  79% \n",
      "pytorch-1.5.1        | 90.5 MB   | #######8   |  79% \n",
      "pytorch-1.5.1        | 90.5 MB   | #######8   |  79% \n",
      "pytorch-1.5.1        | 90.5 MB   | #######8   |  79% \n",
      "pytorch-1.5.1        | 90.5 MB   | #######9   |  79% \n",
      "pytorch-1.5.1        | 90.5 MB   | #######9   |  79% \n",
      "pytorch-1.5.1        | 90.5 MB   | #######9   |  79% \n",
      "pytorch-1.5.1        | 90.5 MB   | #######9   |  79% \n",
      "pytorch-1.5.1        | 90.5 MB   | #######9   |  80% \n",
      "pytorch-1.5.1        | 90.5 MB   | #######9   |  80% \n",
      "pytorch-1.5.1        | 90.5 MB   | #######9   |  80% \n",
      "pytorch-1.5.1        | 90.5 MB   | ########   |  80% \n",
      "pytorch-1.5.1        | 90.5 MB   | ########   |  80% \n",
      "pytorch-1.5.1        | 90.5 MB   | ########   |  81% \n",
      "pytorch-1.5.1        | 90.5 MB   | ########   |  81% \n",
      "pytorch-1.5.1        | 90.5 MB   | ########   |  81% \n",
      "pytorch-1.5.1        | 90.5 MB   | ########1  |  81% \n",
      "pytorch-1.5.1        | 90.5 MB   | ########1  |  82% \n",
      "pytorch-1.5.1        | 90.5 MB   | ########1  |  82% \n",
      "pytorch-1.5.1        | 90.5 MB   | ########2  |  82% \n",
      "pytorch-1.5.1        | 90.5 MB   | ########2  |  82% \n",
      "pytorch-1.5.1        | 90.5 MB   | ########2  |  82% \n",
      "pytorch-1.5.1        | 90.5 MB   | ########2  |  83% \n",
      "pytorch-1.5.1        | 90.5 MB   | ########2  |  83% \n",
      "pytorch-1.5.1        | 90.5 MB   | ########3  |  83% \n",
      "pytorch-1.5.1        | 90.5 MB   | ########3  |  83% \n",
      "pytorch-1.5.1        | 90.5 MB   | ########3  |  83% \n",
      "pytorch-1.5.1        | 90.5 MB   | ########3  |  84% \n",
      "pytorch-1.5.1        | 90.5 MB   | ########3  |  84% \n",
      "pytorch-1.5.1        | 90.5 MB   | ########4  |  84% \n",
      "pytorch-1.5.1        | 90.5 MB   | ########4  |  84% \n",
      "pytorch-1.5.1        | 90.5 MB   | ########4  |  85% \n",
      "pytorch-1.5.1        | 90.5 MB   | ########5  |  85% \n",
      "pytorch-1.5.1        | 90.5 MB   | ########5  |  86% \n",
      "pytorch-1.5.1        | 90.5 MB   | ########5  |  86% \n",
      "pytorch-1.5.1        | 90.5 MB   | ########6  |  86% \n",
      "pytorch-1.5.1        | 90.5 MB   | ########6  |  87% \n",
      "pytorch-1.5.1        | 90.5 MB   | ########6  |  87% \n",
      "pytorch-1.5.1        | 90.5 MB   | ########7  |  88% \n",
      "pytorch-1.5.1        | 90.5 MB   | ########7  |  88% \n",
      "pytorch-1.5.1        | 90.5 MB   | ########8  |  88% \n",
      "pytorch-1.5.1        | 90.5 MB   | ########8  |  89% \n",
      "pytorch-1.5.1        | 90.5 MB   | ########8  |  89% \n",
      "pytorch-1.5.1        | 90.5 MB   | ########9  |  89% \n",
      "pytorch-1.5.1        | 90.5 MB   | ########9  |  90% \n",
      "pytorch-1.5.1        | 90.5 MB   | ########9  |  90% \n",
      "pytorch-1.5.1        | 90.5 MB   | #########  |  90% \n",
      "pytorch-1.5.1        | 90.5 MB   | #########  |  91% \n",
      "pytorch-1.5.1        | 90.5 MB   | #########1 |  91% \n",
      "pytorch-1.5.1        | 90.5 MB   | #########1 |  91% \n",
      "pytorch-1.5.1        | 90.5 MB   | #########1 |  92% \n",
      "pytorch-1.5.1        | 90.5 MB   | #########1 |  92% \n",
      "pytorch-1.5.1        | 90.5 MB   | #########2 |  92% \n",
      "pytorch-1.5.1        | 90.5 MB   | #########2 |  93% \n",
      "pytorch-1.5.1        | 90.5 MB   | #########3 |  93% \n",
      "pytorch-1.5.1        | 90.5 MB   | #########3 |  93% \n",
      "pytorch-1.5.1        | 90.5 MB   | #########3 |  94% \n",
      "pytorch-1.5.1        | 90.5 MB   | #########3 |  94% \n",
      "pytorch-1.5.1        | 90.5 MB   | #########3 |  94% \n",
      "pytorch-1.5.1        | 90.5 MB   | #########4 |  94% \n",
      "pytorch-1.5.1        | 90.5 MB   | #########4 |  95% \n",
      "pytorch-1.5.1        | 90.5 MB   | #########4 |  95% \n",
      "pytorch-1.5.1        | 90.5 MB   | #########5 |  95% \n",
      "pytorch-1.5.1        | 90.5 MB   | #########5 |  95% \n",
      "pytorch-1.5.1        | 90.5 MB   | #########5 |  96% \n",
      "pytorch-1.5.1        | 90.5 MB   | #########5 |  96% \n",
      "pytorch-1.5.1        | 90.5 MB   | #########6 |  96% \n",
      "pytorch-1.5.1        | 90.5 MB   | #########6 |  96% \n",
      "pytorch-1.5.1        | 90.5 MB   | #########6 |  97% \n",
      "pytorch-1.5.1        | 90.5 MB   | #########6 |  97% \n",
      "pytorch-1.5.1        | 90.5 MB   | #########7 |  97% \n",
      "pytorch-1.5.1        | 90.5 MB   | #########7 |  97% \n",
      "pytorch-1.5.1        | 90.5 MB   | #########7 |  98% \n",
      "pytorch-1.5.1        | 90.5 MB   | #########7 |  98% \n",
      "pytorch-1.5.1        | 90.5 MB   | #########8 |  98% \n",
      "pytorch-1.5.1        | 90.5 MB   | #########8 |  98% \n",
      "pytorch-1.5.1        | 90.5 MB   | #########8 |  99% \n",
      "pytorch-1.5.1        | 90.5 MB   | #########9 |  99% \n",
      "pytorch-1.5.1        | 90.5 MB   | #########9 | 100% \n",
      "pytorch-1.5.1        | 90.5 MB   | ########## | 100% \n",
      "\n",
      "torchvision-0.6.1    | 5.8 MB    |            |   0% \n",
      "torchvision-0.6.1    | 5.8 MB    |            |   0% \n",
      "torchvision-0.6.1    | 5.8 MB    |            |   1% \n",
      "torchvision-0.6.1    | 5.8 MB    | 1          |   1% \n",
      "torchvision-0.6.1    | 5.8 MB    | 2          |   2% \n",
      "torchvision-0.6.1    | 5.8 MB    | 3          |   4% \n",
      "torchvision-0.6.1    | 5.8 MB    | 5          |   5% \n",
      "torchvision-0.6.1    | 5.8 MB    | 6          |   7% \n",
      "torchvision-0.6.1    | 5.8 MB    | 8          |   8% \n",
      "torchvision-0.6.1    | 5.8 MB    | #          |  10% \n",
      "torchvision-0.6.1    | 5.8 MB    | #1         |  12% \n",
      "torchvision-0.6.1    | 5.8 MB    | #2         |  13% \n",
      "torchvision-0.6.1    | 5.8 MB    | #3         |  14% \n",
      "torchvision-0.6.1    | 5.8 MB    | #5         |  16% \n",
      "torchvision-0.6.1    | 5.8 MB    | #6         |  16% \n",
      "torchvision-0.6.1    | 5.8 MB    | #9         |  19% \n",
      "torchvision-0.6.1    | 5.8 MB    | ##         |  20% \n",
      "torchvision-0.6.1    | 5.8 MB    | ##1        |  22% \n",
      "torchvision-0.6.1    | 5.8 MB    | ##2        |  23% \n",
      "torchvision-0.6.1    | 5.8 MB    | ##3        |  24% \n",
      "torchvision-0.6.1    | 5.8 MB    | ##4        |  24% \n",
      "torchvision-0.6.1    | 5.8 MB    | ##5        |  26% \n",
      "torchvision-0.6.1    | 5.8 MB    | ##6        |  26% \n",
      "torchvision-0.6.1    | 5.8 MB    | ##7        |  27% \n",
      "torchvision-0.6.1    | 5.8 MB    | ##9        |  29% \n",
      "torchvision-0.6.1    | 5.8 MB    | ##9        |  30% \n",
      "torchvision-0.6.1    | 5.8 MB    | ###        |  31% \n",
      "torchvision-0.6.1    | 5.8 MB    | ###1       |  32% \n",
      "torchvision-0.6.1    | 5.8 MB    | ###3       |  33% \n",
      "torchvision-0.6.1    | 5.8 MB    | ###4       |  34% \n",
      "torchvision-0.6.1    | 5.8 MB    | ###4       |  35% \n",
      "torchvision-0.6.1    | 5.8 MB    | ###5       |  36% \n",
      "torchvision-0.6.1    | 5.8 MB    | ###7       |  37% \n",
      "torchvision-0.6.1    | 5.8 MB    | ###8       |  38% \n",
      "torchvision-0.6.1    | 5.8 MB    | ###9       |  40% \n",
      "torchvision-0.6.1    | 5.8 MB    | ####2      |  42% \n",
      "torchvision-0.6.1    | 5.8 MB    | ####4      |  44% \n",
      "torchvision-0.6.1    | 5.8 MB    | ####6      |  46% \n",
      "torchvision-0.6.1    | 5.8 MB    | ####8      |  48% \n",
      "torchvision-0.6.1    | 5.8 MB    | ####9      |  50% \n",
      "torchvision-0.6.1    | 5.8 MB    | #####2     |  52% \n",
      "torchvision-0.6.1    | 5.8 MB    | #####4     |  54% \n",
      "torchvision-0.6.1    | 5.8 MB    | #####6     |  56% \n",
      "torchvision-0.6.1    | 5.8 MB    | #####8     |  58% \n",
      "torchvision-0.6.1    | 5.8 MB    | ######     |  61% \n",
      "torchvision-0.6.1    | 5.8 MB    | ######2    |  63% \n",
      "torchvision-0.6.1    | 5.8 MB    | ######4    |  65% \n",
      "torchvision-0.6.1    | 5.8 MB    | ######6    |  67% \n",
      "torchvision-0.6.1    | 5.8 MB    | ######9    |  69% \n",
      "torchvision-0.6.1    | 5.8 MB    | #######1   |  71% \n",
      "torchvision-0.6.1    | 5.8 MB    | #######3   |  73% \n",
      "torchvision-0.6.1    | 5.8 MB    | #######4   |  75% \n",
      "torchvision-0.6.1    | 5.8 MB    | #######5   |  76% \n",
      "torchvision-0.6.1    | 5.8 MB    | #######7   |  78% \n",
      "torchvision-0.6.1    | 5.8 MB    | #######8   |  79% \n",
      "torchvision-0.6.1    | 5.8 MB    | ########   |  80% \n",
      "torchvision-0.6.1    | 5.8 MB    | ########1  |  82% \n",
      "torchvision-0.6.1    | 5.8 MB    | ########2  |  83% \n",
      "torchvision-0.6.1    | 5.8 MB    | ########4  |  84% \n",
      "torchvision-0.6.1    | 5.8 MB    | ########5  |  85% \n",
      "torchvision-0.6.1    | 5.8 MB    | ########6  |  86% \n",
      "torchvision-0.6.1    | 5.8 MB    | ########9  |  89% \n",
      "torchvision-0.6.1    | 5.8 MB    | #########2 |  92% \n",
      "torchvision-0.6.1    | 5.8 MB    | #########4 |  95% \n",
      "torchvision-0.6.1    | 5.8 MB    | #########6 |  96% \n",
      "torchvision-0.6.1    | 5.8 MB    | #########8 |  98% \n",
      "torchvision-0.6.1    | 5.8 MB    | ########## | 100% \n",
      "Preparing transaction: ...working... done\n",
      "Verifying transaction: ...working... done\n",
      "Executing transaction: ...working... done\n",
      "\n",
      "Note: you may need to restart the kernel to use updated packages.\n"
     ]
    }
   ],
   "source": [
    "conda install pytorch torchvision cpuonly -c pytorch"
   ]
  },
  {
   "cell_type": "code",
   "execution_count": 3,
   "metadata": {},
   "outputs": [
    {
     "name": "stdout",
     "output_type": "stream",
     "text": [
      "1.5.1\n"
     ]
    }
   ],
   "source": [
    "print(torch.__version__)"
   ]
  },
  {
   "cell_type": "code",
   "execution_count": 5,
   "metadata": {},
   "outputs": [],
   "source": [
    "import torch"
   ]
  },
  {
   "cell_type": "code",
   "execution_count": 6,
   "metadata": {},
   "outputs": [],
   "source": [
    "import pandas as pd\n",
    "import numpy as np\n",
    "import matplotlib.pyplot as plt\n",
    "%matplotlib inline"
   ]
  },
  {
   "cell_type": "code",
   "execution_count": 7,
   "metadata": {},
   "outputs": [],
   "source": [
    "def plotVec(vectors):\n",
    "    ax = plt.axes()\n",
    "    \n",
    "    for vec in vectors:\n",
    "        ax.arrow(0, 0, *vec[\"vector\"], head_width=0.05, color = vec[\"color\"], head_length = 0.1)\n",
    "        plt.text(*(vec[\"vector\"] + 0.1), vec[\"name\"])\n",
    "        \n",
    "    plt.ylim(-2,2)\n",
    "    plt.xlim(-2,2)"
   ]
  },
  {
   "cell_type": "code",
   "execution_count": 8,
   "metadata": {},
   "outputs": [
    {
     "name": "stdout",
     "output_type": "stream",
     "text": [
      "The dtype of tensor object after converting it to tensor: torch.int64\n",
      "The type of tensor object after converting it to tensor: torch.LongTensor\n"
     ]
    }
   ],
   "source": [
    "# Type and Shape\n",
    "\n",
    "ints_to_tensor = torch.tensor([0,1,2,3,4])\n",
    "print('The dtype of tensor object after converting it to tensor:', ints_to_tensor.dtype)\n",
    "print('The type of tensor object after converting it to tensor:', ints_to_tensor.type())"
   ]
  },
  {
   "cell_type": "code",
   "execution_count": 9,
   "metadata": {},
   "outputs": [
    {
     "data": {
      "text/plain": [
       "torch.Tensor"
      ]
     },
     "execution_count": 9,
     "metadata": {},
     "output_type": "execute_result"
    }
   ],
   "source": [
    "type(ints_to_tensor)"
   ]
  },
  {
   "cell_type": "code",
   "execution_count": 10,
   "metadata": {},
   "outputs": [
    {
     "name": "stdout",
     "output_type": "stream",
     "text": [
      "The dtype of tensor object after converting it to tensor: torch.float32\n",
      "The type of tensor object after converting it to tensor: torch.FloatTensor\n"
     ]
    }
   ],
   "source": [
    "floats_to_tensor = torch.tensor([0.0,1.0,2.0,3.0,4.0])\n",
    "print('The dtype of tensor object after converting it to tensor:', floats_to_tensor.dtype)\n",
    "print('The type of tensor object after converting it to tensor:', floats_to_tensor.type())\n"
   ]
  },
  {
   "cell_type": "code",
   "execution_count": 11,
   "metadata": {},
   "outputs": [],
   "source": [
    "list_floats = [0.0,1.0,2.0,3.0,4.0]\n",
    "floats_int_tensor = torch.tensor(list_floats, dtype=torch.int64)"
   ]
  },
  {
   "cell_type": "code",
   "execution_count": 12,
   "metadata": {},
   "outputs": [
    {
     "name": "stdout",
     "output_type": "stream",
     "text": [
      "The dtype of tensor object is: torch.int64\n",
      "The type of tensor object is: torch.LongTensor\n"
     ]
    }
   ],
   "source": [
    "print('The dtype of tensor object is:',floats_int_tensor.dtype)\n",
    "print('The type of tensor object is:', floats_int_tensor.type())"
   ]
  },
  {
   "cell_type": "code",
   "execution_count": 14,
   "metadata": {},
   "outputs": [
    {
     "data": {
      "text/plain": [
       "tensor([0., 1., 2., 3., 4.])"
      ]
     },
     "execution_count": 14,
     "metadata": {},
     "output_type": "execute_result"
    }
   ],
   "source": [
    "new_float_tensor = torch.FloatTensor([0,1,2,3,4])\n",
    "new_float_tensor"
   ]
  },
  {
   "cell_type": "code",
   "execution_count": 15,
   "metadata": {},
   "outputs": [
    {
     "name": "stdout",
     "output_type": "stream",
     "text": [
      "The type of tensor object:  torch.FloatTensor\n"
     ]
    }
   ],
   "source": [
    "print('The type of tensor object: ', new_float_tensor.type())"
   ]
  },
  {
   "cell_type": "code",
   "execution_count": 16,
   "metadata": {},
   "outputs": [
    {
     "name": "stdout",
     "output_type": "stream",
     "text": [
      "The type of old_int_tensor before:  torch.LongTensor\n",
      "The type of new_float_tensor after:  torch.FloatTensor\n"
     ]
    }
   ],
   "source": [
    "old_int_tensor = torch.tensor([0, 1, 2, 3, 4])\n",
    "print('The type of old_int_tensor before: ', old_int_tensor.type())\n",
    "new_float_tensor = old_int_tensor.type(torch.FloatTensor)\n",
    "print('The type of new_float_tensor after: ', new_float_tensor.type())"
   ]
  },
  {
   "cell_type": "code",
   "execution_count": 17,
   "metadata": {},
   "outputs": [
    {
     "name": "stdout",
     "output_type": "stream",
     "text": [
      "The size:  torch.Size([5])\n",
      "The dimensions:  1\n"
     ]
    }
   ],
   "source": [
    "# size and dimensions\n",
    "\n",
    "print('The size: ', new_float_tensor.size())\n",
    "print('The dimensions: ', new_float_tensor.ndimension())"
   ]
  },
  {
   "cell_type": "code",
   "execution_count": 18,
   "metadata": {},
   "outputs": [
    {
     "name": "stdout",
     "output_type": "stream",
     "text": [
      "Original size:  tensor([0., 1., 2., 3., 4.])\n",
      "Size after view method:  tensor([[0.],\n",
      "        [1.],\n",
      "        [2.],\n",
      "        [3.],\n",
      "        [4.]])\n"
     ]
    }
   ],
   "source": [
    "twoD_float_tensor = new_float_tensor.view(5, 1)\n",
    "print('Original size: ', new_float_tensor)\n",
    "print('Size after view method: ', twoD_float_tensor)"
   ]
  },
  {
   "cell_type": "code",
   "execution_count": 19,
   "metadata": {},
   "outputs": [
    {
     "name": "stdout",
     "output_type": "stream",
     "text": [
      "Original size:  tensor([0., 1., 2., 3., 4.])\n",
      "Size after view method:  tensor([[0.],\n",
      "        [1.],\n",
      "        [2.],\n",
      "        [3.],\n",
      "        [4.]])\n"
     ]
    }
   ],
   "source": [
    "twoD_float_tensor = new_float_tensor.view(-1, 1)\n",
    "print('Original size: ', new_float_tensor)\n",
    "print('Size after view method: ', twoD_float_tensor)"
   ]
  },
  {
   "cell_type": "code",
   "execution_count": 20,
   "metadata": {},
   "outputs": [
    {
     "name": "stdout",
     "output_type": "stream",
     "text": [
      "The dtype of new_tensor:  torch.float64\n",
      "The type of new_tensor:  torch.DoubleTensor\n"
     ]
    }
   ],
   "source": [
    "# convert a numpy array to a tensor\n",
    "\n",
    "numpy_array = np.array([0.0, 1.0, 2.0, 3.0, 4.0])\n",
    "new_tensor = torch.from_numpy(numpy_array)\n",
    "\n",
    "print('The dtype of new_tensor: ', new_tensor.dtype)\n",
    "print('The type of new_tensor: ', new_tensor.type())"
   ]
  },
  {
   "cell_type": "code",
   "execution_count": 21,
   "metadata": {},
   "outputs": [
    {
     "data": {
      "text/plain": [
       "tensor([0., 1., 2., 3., 4.], dtype=torch.float64)"
      ]
     },
     "execution_count": 21,
     "metadata": {},
     "output_type": "execute_result"
    }
   ],
   "source": [
    "new_tensor"
   ]
  },
  {
   "cell_type": "code",
   "execution_count": 22,
   "metadata": {},
   "outputs": [
    {
     "name": "stdout",
     "output_type": "stream",
     "text": [
      "The tensor from numpy:  [0. 1. 2. 3. 4.]\n",
      "The dtype of numpy array:  float64\n"
     ]
    }
   ],
   "source": [
    "# convert a tensor to numpy\n",
    "\n",
    "back_to_numpy = new_tensor.numpy()\n",
    "print('The tensor from numpy: ', back_to_numpy)\n",
    "print('The dtype of numpy array: ', back_to_numpy.dtype)"
   ]
  },
  {
   "cell_type": "code",
   "execution_count": 23,
   "metadata": {},
   "outputs": [
    {
     "name": "stdout",
     "output_type": "stream",
     "text": [
      "The new_tensor:  tensor([0., 0., 0., 0., 0.], dtype=torch.float64)\n",
      "back_to_numpy:  [0. 0. 0. 0. 0.]\n"
     ]
    }
   ],
   "source": [
    "# set all elements in numpy array to zero\n",
    "\n",
    "numpy_array[:] = 0\n",
    "\n",
    "print(\"The new_tensor: \", new_tensor)\n",
    "print(\"back_to_numpy: \", back_to_numpy)"
   ]
  },
  {
   "cell_type": "code",
   "execution_count": 24,
   "metadata": {},
   "outputs": [
    {
     "name": "stdout",
     "output_type": "stream",
     "text": [
      "The new_tensor:  tensor([ 0.1000,  2.0000,  0.3000, 10.1000], dtype=torch.float64)\n",
      "the dtype:  torch.float64\n",
      "The typ:  torch.DoubleTensor\n"
     ]
    }
   ],
   "source": [
    "# convert a panda series to a tensor\n",
    "\n",
    "panda_series = pd.Series([0.1, 2, 0.3, 10.1])\n",
    "new_tensor = torch.from_numpy(panda_series.values)\n",
    "print('The new_tensor: ', new_tensor)\n",
    "print('the dtype: ', new_tensor.dtype)\n",
    "print('The typ: ', new_tensor.type())"
   ]
  },
  {
   "cell_type": "code",
   "execution_count": 25,
   "metadata": {},
   "outputs": [
    {
     "name": "stdout",
     "output_type": "stream",
     "text": [
      "The first item:  0 the first value:  tensor(0)\n",
      "The second item:  1 the second value:  tensor(1)\n",
      "The third item:  2 the third value:  tensor(2)\n"
     ]
    }
   ],
   "source": [
    "this_tensor = torch.tensor([0, 1, 2, 3])\n",
    "\n",
    "print('The first item: ', this_tensor[0].item(), 'the first value: ', this_tensor[0])\n",
    "print('The second item: ', this_tensor[1].item(), 'the second value: ', this_tensor[1])\n",
    "print('The third item: ', this_tensor[2].item(), 'the third value: ', this_tensor[2])"
   ]
  },
  {
   "cell_type": "code",
   "execution_count": 26,
   "metadata": {},
   "outputs": [
    {
     "name": "stdout",
     "output_type": "stream",
     "text": [
      "tensor: tensor([0, 1, 2, 3]) \n",
      "list: [0, 1, 2, 3]\n"
     ]
    }
   ],
   "source": [
    "torch_to_list = this_tensor.tolist()\n",
    "print('tensor:', this_tensor, '\\nlist:', torch_to_list)"
   ]
  },
  {
   "cell_type": "code",
   "execution_count": 27,
   "metadata": {},
   "outputs": [
    {
     "name": "stdout",
     "output_type": "stream",
     "text": [
      "Original Size:  tensor([1, 2, 3, 4, 5])\n",
      "Size after view method tensor([[1, 2, 3, 4, 5]])\n"
     ]
    }
   ],
   "source": [
    "your_tensor = torch.tensor([1, 2, 3, 4, 5])\n",
    "your_new_tensor = your_tensor.view(1, 5)\n",
    "print(\"Original Size: \", your_tensor)\n",
    "print(\"Size after view method\", your_new_tensor)"
   ]
  },
  {
   "cell_type": "code",
   "execution_count": 28,
   "metadata": {},
   "outputs": [
    {
     "name": "stdout",
     "output_type": "stream",
     "text": [
      "Index value 0: tensor(0)\n",
      "Index value 1: tensor(1)\n",
      "Index value 2: tensor(2)\n",
      "Index value 3: tensor(3)\n",
      "Index value 4: tensor(4)\n"
     ]
    }
   ],
   "source": [
    "# Indexing and Slicing\n",
    "index_tensor = torch.tensor([0, 1, 2, 3, 4])\n",
    "\n",
    "print('Index value 0:', index_tensor[0])\n",
    "print('Index value 1:', index_tensor[1])\n",
    "print('Index value 2:', index_tensor[2])\n",
    "print('Index value 3:', index_tensor[3])\n",
    "print('Index value 4:', index_tensor[4])"
   ]
  },
  {
   "cell_type": "code",
   "execution_count": 30,
   "metadata": {},
   "outputs": [
    {
     "name": "stdout",
     "output_type": "stream",
     "text": [
      "Inital value on index 0: tensor(20)\n",
      "Modified tensor: tensor([100,   1,   2,   3,   4])\n"
     ]
    }
   ],
   "source": [
    "# Change the value on the index 0 to 100\n",
    "tensor_sample = torch.tensor([20, 1, 2, 3, 4])\n",
    "print(\"Inital value on index 0:\", tensor_sample[0])\n",
    "tensor_sample[0] = 100\n",
    "print(\"Modified tensor:\", tensor_sample)"
   ]
  },
  {
   "cell_type": "code",
   "execution_count": 32,
   "metadata": {},
   "outputs": [
    {
     "name": "stdout",
     "output_type": "stream",
     "text": [
      "Initial value on index 4: tensor(0)\n",
      "Modiied tensor: tensor([100,   1,   2,   3,   0])\n"
     ]
    }
   ],
   "source": [
    "print('Initial value on index 4:', tensor_sample[4])\n",
    "tensor_sample[4] = 0\n",
    "print('Modiied tensor:', tensor_sample)"
   ]
  },
  {
   "cell_type": "code",
   "execution_count": 33,
   "metadata": {},
   "outputs": [
    {
     "name": "stdout",
     "output_type": "stream",
     "text": [
      "Original: tensor([100,   1,   2,   3,   0])\n",
      "Subset: tensor([1, 2, 3])\n"
     ]
    }
   ],
   "source": [
    "subset_tensor_sample = tensor_sample[1:4]\n",
    "print('Original:', tensor_sample)\n",
    "print('Subset:', subset_tensor_sample)"
   ]
  },
  {
   "cell_type": "code",
   "execution_count": 34,
   "metadata": {},
   "outputs": [
    {
     "name": "stdout",
     "output_type": "stream",
     "text": [
      "Initial value at index 3 and index 4 is: tensor([3, 0])\n",
      "Modified value: tensor([100,   1,   2, 300, 400])\n"
     ]
    }
   ],
   "source": [
    "print('Initial value at index 3 and index 4 is:', tensor_sample[3:5])\n",
    "tensor_sample[3:5] = torch.tensor([300.0, 400.0])\n",
    "print('Modified value:', tensor_sample)"
   ]
  },
  {
   "cell_type": "code",
   "execution_count": 35,
   "metadata": {},
   "outputs": [
    {
     "name": "stdout",
     "output_type": "stream",
     "text": [
      "The inital tensor_sample tensor([100,   1,   2, 300, 400])\n",
      "The subset of tensor_sample with the values on index 3 and 4:  tensor([300, 400])\n"
     ]
    }
   ],
   "source": [
    "# Using variable to contain the selected index, and pass it to slice operation\n",
    "\n",
    "selected_indexes = [3, 4]\n",
    "subset_tensor_sample = tensor_sample[selected_indexes]\n",
    "print(\"The inital tensor_sample\", tensor_sample)\n",
    "print(\"The subset of tensor_sample with the values on index 3 and 4: \", subset_tensor_sample)"
   ]
  },
  {
   "cell_type": "code",
   "execution_count": 36,
   "metadata": {},
   "outputs": [
    {
     "name": "stdout",
     "output_type": "stream",
     "text": [
      "Initial tensor sample: tensor([100,   1,   2, 300, 400])\n",
      "Modified: tensor([   100, 100000,      2, 100000,    400])\n"
     ]
    }
   ],
   "source": [
    "print('Initial tensor sample:', tensor_sample)\n",
    "selected_indexes = [1, 3]\n",
    "tensor_sample[selected_indexes] = 100000\n",
    "print('Modified:',tensor_sample)"
   ]
  },
  {
   "cell_type": "code",
   "execution_count": 37,
   "metadata": {},
   "outputs": [
    {
     "name": "stdout",
     "output_type": "stream",
     "text": [
      "Tensor example:  tensor([ 1., -1.,  1., -1.])\n"
     ]
    }
   ],
   "source": [
    "# Sample tensor for mathmatic calculation methods on tensor\n",
    "\n",
    "math_tensor = torch.tensor([1.0, -1.0, 1, -1])\n",
    "print(\"Tensor example: \", math_tensor)"
   ]
  },
  {
   "cell_type": "code",
   "execution_count": 38,
   "metadata": {},
   "outputs": [
    {
     "name": "stdout",
     "output_type": "stream",
     "text": [
      "the mean: tensor(0.)\n",
      "the std: tensor(1.1547)\n"
     ]
    }
   ],
   "source": [
    "mean = math_tensor.mean()\n",
    "print(\"the mean:\", mean)\n",
    "\n",
    "standard_deviation = math_tensor.std()\n",
    "print('the std:', standard_deviation)"
   ]
  },
  {
   "cell_type": "code",
   "execution_count": 39,
   "metadata": {},
   "outputs": [
    {
     "data": {
      "text/plain": [
       "tensor(5)"
      ]
     },
     "execution_count": 39,
     "metadata": {},
     "output_type": "execute_result"
    }
   ],
   "source": [
    "max_min_tensor = torch.tensor([1, 1, 3, 5, 5])\n",
    "max_val = max_min_tensor.max()\n",
    "max_val"
   ]
  },
  {
   "cell_type": "code",
   "execution_count": 40,
   "metadata": {},
   "outputs": [
    {
     "data": {
      "text/plain": [
       "tensor(1)"
      ]
     },
     "execution_count": 40,
     "metadata": {},
     "output_type": "execute_result"
    }
   ],
   "source": [
    "min_val = max_min_tensor.min()\n",
    "min_val"
   ]
  },
  {
   "cell_type": "code",
   "execution_count": 41,
   "metadata": {},
   "outputs": [
    {
     "data": {
      "text/plain": [
       "tensor([ 0.0000e+00,  1.0000e+00, -8.7423e-08])"
      ]
     },
     "execution_count": 41,
     "metadata": {},
     "output_type": "execute_result"
    }
   ],
   "source": [
    "pi_tensor = torch.tensor([0, np.pi/2, np.pi])\n",
    "sin = torch.sin(pi_tensor)\n",
    "sin"
   ]
  },
  {
   "cell_type": "code",
   "execution_count": 42,
   "metadata": {},
   "outputs": [
    {
     "data": {
      "text/plain": [
       "tensor([-2., -1.,  0.,  1.,  2.])"
      ]
     },
     "execution_count": 42,
     "metadata": {},
     "output_type": "execute_result"
    }
   ],
   "source": [
    "len_5_tensor = torch.linspace(-2, 2, steps=5)\n",
    "len_5_tensor"
   ]
  },
  {
   "cell_type": "code",
   "execution_count": 43,
   "metadata": {},
   "outputs": [],
   "source": [
    "pi_tensor = torch.linspace(0, 2*np.pi, 100)\n",
    "sin_result = torch.sin(pi_tensor)"
   ]
  },
  {
   "cell_type": "code",
   "execution_count": 45,
   "metadata": {},
   "outputs": [
    {
     "data": {
      "text/plain": [
       "[<matplotlib.lines.Line2D at 0x1d38f3788c8>]"
      ]
     },
     "execution_count": 45,
     "metadata": {},
     "output_type": "execute_result"
    },
    {
     "data": {
      "image/png": "[encoded data removed]",
      "text/plain": [
       "<Figure size 432x288 with 1 Axes>"
      ]
     },
     "metadata": {
      "needs_background": "light"
     },
     "output_type": "display_data"
    }
   ],
   "source": [
    "plt.plot(pi_tensor.numpy(), sin_result.numpy())"
   ]
  },
  {
   "cell_type": "code",
   "execution_count": 46,
   "metadata": {},
   "outputs": [
    {
     "name": "stdout",
     "output_type": "stream",
     "text": [
      "Max number: tensor(1.5708)\n",
      "Min number: tensor(0.)\n"
     ]
    },
    {
     "data": {
      "text/plain": [
       "[<matplotlib.lines.Line2D at 0x1d38f3f1fc8>]"
      ]
     },
     "execution_count": 46,
     "metadata": {},
     "output_type": "execute_result"
    },
    {
     "data": {
      "image/png": "[encoded data removed]",
      "text/plain": [
       "<Figure size 432x288 with 1 Axes>"
      ]
     },
     "metadata": {
      "needs_background": "light"
     },
     "output_type": "display_data"
    }
   ],
   "source": [
    "# Practice: Create your tensor, print max and min number, plot the sin result diagram\n",
    "\n",
    "tensor_one = torch.linspace(0, np.pi/2, 25)\n",
    "print('Max number:', tensor_one.max())\n",
    "print('Min number:', tensor_one.min())\n",
    "sin_one = torch.sin(tensor_one)\n",
    "plt.plot(tensor_one.numpy(), sin_one.numpy())"
   ]
  },
  {
   "cell_type": "code",
   "execution_count": 47,
   "metadata": {},
   "outputs": [],
   "source": [
    "# Create two sample tensors\n",
    "\n",
    "u = torch.tensor([1, 0])\n",
    "v = torch.tensor([0, 1])"
   ]
  },
  {
   "cell_type": "code",
   "execution_count": 48,
   "metadata": {},
   "outputs": [
    {
     "data": {
      "text/plain": [
       "tensor([1, 1])"
      ]
     },
     "execution_count": 48,
     "metadata": {},
     "output_type": "execute_result"
    }
   ],
   "source": [
    "w = u + v\n",
    "w"
   ]
  },
  {
   "cell_type": "code",
   "execution_count": 49,
   "metadata": {},
   "outputs": [
    {
     "data": {
      "image/png": "[encoded data removed]",
      "text/plain": [
       "<Figure size 432x288 with 1 Axes>"
      ]
     },
     "metadata": {
      "needs_background": "light"
     },
     "output_type": "display_data"
    }
   ],
   "source": [
    "# plot u, v, w\n",
    "\n",
    "plotVec([\n",
    "    {'vector': u.numpy(), 'name': 'u', 'color': 'r'},\n",
    "    {'vector': v.numpy(), 'name': 'v', 'color': 'b'},\n",
    "    {'vector': w.numpy(), 'name': 'w', 'color': 'g'}\n",
    "])"
   ]
  },
  {
   "cell_type": "code",
   "execution_count": 50,
   "metadata": {},
   "outputs": [
    {
     "data": {
      "text/plain": [
       "tensor([2., 4., 6.], dtype=torch.float64)"
      ]
     },
     "execution_count": 50,
     "metadata": {},
     "output_type": "execute_result"
    }
   ],
   "source": [
    "torch.tensor([1,2,3],dtype=torch.int64)+torch.tensor([1,2,3],dtype=torch.float64)"
   ]
  },
  {
   "cell_type": "code",
   "execution_count": 51,
   "metadata": {},
   "outputs": [
    {
     "data": {
      "text/plain": [
       "tensor([2, 3, 4, 0])"
      ]
     },
     "execution_count": 51,
     "metadata": {},
     "output_type": "execute_result"
    }
   ],
   "source": [
    "u = torch.tensor([1, 2, 3, -1])\n",
    "v = u + 1\n",
    "v"
   ]
  },
  {
   "cell_type": "code",
   "execution_count": 52,
   "metadata": {},
   "outputs": [
    {
     "data": {
      "text/plain": [
       "tensor([ 2,  4,  6, -2])"
      ]
     },
     "execution_count": 52,
     "metadata": {},
     "output_type": "execute_result"
    }
   ],
   "source": [
    "z = 2*u\n",
    "z"
   ]
  },
  {
   "cell_type": "code",
   "execution_count": 53,
   "metadata": {},
   "outputs": [
    {
     "name": "stdout",
     "output_type": "stream",
     "text": [
      "The result of u * v tensor([3, 4])\n"
     ]
    }
   ],
   "source": [
    "# tensor * tensor\n",
    "\n",
    "u = torch.tensor([1, 2])\n",
    "v = torch.tensor([3, 2])\n",
    "w = u * v\n",
    "print (\"The result of u * v\", w)"
   ]
  },
  {
   "cell_type": "code",
   "execution_count": 54,
   "metadata": {},
   "outputs": [
    {
     "data": {
      "text/plain": [
       "tensor(11)"
      ]
     },
     "execution_count": 54,
     "metadata": {},
     "output_type": "execute_result"
    }
   ],
   "source": [
    "u = torch.tensor([1, 2])\n",
    "v = torch.tensor([3, 4])\n",
    "w = torch.dot(u,v)\n",
    "w"
   ]
  },
  {
   "cell_type": "code",
   "execution_count": 55,
   "metadata": {},
   "outputs": [
    {
     "name": "stdout",
     "output_type": "stream",
     "text": [
      "the dot product is: tensor(0)\n"
     ]
    },
    {
     "data": {
      "image/png": "[encoded data removed]",
      "text/plain": [
       "<Figure size 432x288 with 1 Axes>"
      ]
     },
     "metadata": {
      "needs_background": "light"
     },
     "output_type": "display_data"
    }
   ],
   "source": [
    "# Practice: calculate the dot product of u and v, and plot out two vectors\n",
    "\n",
    "u = torch.tensor([-1, 1])\n",
    "v = torch.tensor([1, 1])\n",
    "plotVec([\n",
    "    {'vector': u.numpy(), 'name': 'u', 'color': 'r'},\n",
    "    {'vector': v.numpy(), 'name': 'v', 'color': 'b'}\n",
    "])\n",
    "\n",
    "print(\"the dot product is:\", torch.dot(u,v))"
   ]
  },
  {
   "cell_type": "code",
   "execution_count": null,
   "metadata": {},
   "outputs": [],
   "source": []
  }
 ],
 "metadata": {
  "kernelspec": {
   "display_name": "Python 3",
   "language": "python",
   "name": "python3"
  },
  "language_info": {
   "codemirror_mode": {
    "name": "ipython",
    "version": 3
   },
   "file_extension": ".py",
   "mimetype": "text/x-python",
   "name": "python",
   "nbconvert_exporter": "python",
   "pygments_lexer": "ipython3",
   "version": "3.7.6"
  }
 },
 "nbformat": 4,
 "nbformat_minor": 4
}
